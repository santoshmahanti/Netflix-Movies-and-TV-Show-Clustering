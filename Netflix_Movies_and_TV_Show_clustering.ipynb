{
  "nbformat": 4,
  "nbformat_minor": 0,
  "metadata": {
    "colab": {
      "provenance": [],
      "collapsed_sections": [
        "w6K7xa23Elo4",
        "mDgbUHAGgjLW",
        "448CDAPjqfQr",
        "-JiQyfWJYklI",
        "RoGjAbkUYoAp",
        "Seke61FWphqN",
        "rFu4xreNphqO",
        "lssrdh5qphqQ",
        "U2RJ9gkRphqQ",
        "1M8mcRywphqQ",
        "tgIPom80phqQ",
        "JMzcOPDDphqR",
        "x-EpHcCOp1ci",
        "X_VqEhTip1ck",
        "8zGJKyg5p1ck",
        "PVzmfK_Ep1ck",
        "n3dbpmDWp1ck",
        "ylSl6qgtp1ck",
        "ZWILFDl5p1ck",
        "M7G43BXep1ck",
        "Ag9LCva-p1cl",
        "E6MkPsBcp1cl",
        "2cELzS2fp1cl",
        "3MPXvC8up1cl",
        "NC_X3p0fY2L0",
        "UV0SzAkaZNRQ",
        "YPEH6qLeZNRQ",
        "q29F0dvdveiT",
        "EXh0U9oCveiU",
        "22aHeOlLveiV",
        "g-ATYxFrGrvw",
        "Yfr_Vlr8HBkt",
        "8yEUt7NnHlrM",
        "tEA2Xm5dHt1r",
        "I79__PHVH19G",
        "Ou-I18pAyIpj",
        "fF3858GYyt-u",
        "4_0_7-oCpUZd",
        "hwyV_J3ipUZe",
        "3yB-zSqbpUZe",
        "dEUvejAfpUZe",
        "Fd15vwWVpUZf",
        "bn_IUdTipZyH",
        "49K5P_iCpZyH",
        "Nff-vKELpZyI",
        "kLW572S8pZyI",
        "dWbDXHzopZyI",
        "yLjJCtPM0KBk",
        "xiyOF9F70UgQ",
        "7wuGOrhz0itI",
        "id1riN9m0vUs",
        "578E2V7j08f6",
        "89xtkJwZ18nB",
        "67NQN5KX2AMe",
        "Iwf50b-R2tYG",
        "GMQiZwjn3iu7",
        "WVIkgGqN3qsr",
        "XkPnILGE3zoT",
        "Hlsf0x5436Go",
        "mT9DMSJo4nBL",
        "c49ITxTc407N",
        "OeJFEK0N496M",
        "9ExmJH0g5HBk",
        "cJNqERVU536h",
        "k5UmGsbsOxih",
        "T0VqWOYE6DLQ",
        "qBMux9mC6MCf",
        "-oLEiFgy-5Pf",
        "C74aWNz2AliB",
        "2DejudWSA-a0",
        "pEMng2IbBLp7",
        "rAdphbQ9Bhjc",
        "TNVZ9zx19K6k",
        "nqoHp30x9hH9",
        "rMDnDkt2B6du",
        "yiiVWRdJDDil",
        "1UUpS68QDMuG",
        "kexQrXU-DjzY",
        "T5CmagL3EC8N",
        "BhH2vgX9EjGr",
        "qjKvONjwE8ra",
        "P1XJ9OREExlT",
        "VFOzZv6IFROw",
        "TIqpNgepFxVj",
        "VfCC591jGiD4",
        "OB4l2ZhMeS1U",
        "ArJBuiUVfxKd",
        "4qY1EAkEfxKe",
        "PiV4Ypx8fxKe",
        "TfvqoZmBfxKf",
        "dJ2tPlVmpsJ0",
        "JWYfwnehpsJ1",
        "-jK_YjpMpsJ2",
        "HAih1iBOpsJ2",
        "zVGeBEFhpsJ2",
        "bmKjuQ-FpsJ3",
        "Fze-IPXLpx6K",
        "7AN1z2sKpx6M",
        "9PIHJqyupx6M",
        "_-qAgymDpx6N",
        "Z-hykwinpx6N",
        "h_CCil-SKHpo",
        "cBFFvTBNJzUa",
        "HvGl1hHyA_VK",
        "EyNgTHvd2WFk",
        "KH5McJBi2d8v",
        "iW_Lq9qf2h6X",
        "-Kee-DAl2viO",
        "gCX9965dhzqZ",
        "gIfDvo9L0UH2"
      ],
      "include_colab_link": true
    },
    "kernelspec": {
      "name": "python3",
      "display_name": "Python 3"
    },
    "language_info": {
      "name": "python"
    },
    "gpuClass": "standard"
  },
  "cells": [
    {
      "cell_type": "markdown",
      "metadata": {
        "id": "view-in-github",
        "colab_type": "text"
      },
      "source": [
        "<a href=\"https://colab.research.google.com/github/santoshmahanti/Netflix-Movies-and-TV-Show-Clustering/blob/main/Netflix_Movies_and_TV_Show_clustering.ipynb\" target=\"_parent\"><img src=\"https://colab.research.google.com/assets/colab-badge.svg\" alt=\"Open In Colab\"/></a>"
      ]
    },
    {
      "cell_type": "markdown",
      "source": [
        "# **Project Name**    - Netflix Movies and TV Show clustering\n",
        "\n"
      ],
      "metadata": {
        "id": "vncDsAP0Gaoa"
      }
    },
    {
      "cell_type": "markdown",
      "source": [
        "##### **Project Type**    - Unsupervised\n",
        "##### **Contribution**    - Team\n",
        "##### **Team Member 1 -** Bhaskar Kumar\n",
        "##### **Team Member 2 -** Santosh Mahanati\n"
      ],
      "metadata": {
        "id": "beRrZCGUAJYm"
      }
    },
    {
      "cell_type": "markdown",
      "source": [
        "# **Project Summary -**"
      ],
      "metadata": {
        "id": "FJNUwmbgGyua"
      }
    },
    {
      "cell_type": "markdown",
      "source": [
        "Write the summary here within 500-600 words. \n",
        "\n",
        "\n"
      ],
      "metadata": {
        "id": "F6v_1wHtG2nS"
      }
    },
    {
      "cell_type": "markdown",
      "source": [
        "# **GitHub Link -**"
      ],
      "metadata": {
        "id": "w6K7xa23Elo4"
      }
    },
    {
      "cell_type": "markdown",
      "source": [
        "Provide your GitHub Link here."
      ],
      "metadata": {
        "id": "h1o69JH3Eqqn"
      }
    },
    {
      "cell_type": "markdown",
      "source": [
        "# **Problem Statement**\n"
      ],
      "metadata": {
        "id": "yQaldy8SH6Dl"
      }
    },
    {
      "cell_type": "markdown",
      "source": [
        "This dataset consists of tv shows and movies available on Netflix as of 2019. The dataset is collected from Flixable which is a third-party Netflix search engine.\n",
        "In 2018, they released an interesting report which shows that the number of TV shows on Netflix has nearly tripled since 2010. The streaming service’s number of movies has decreased by more than 2,000 titles since 2010, while its number of TV shows has nearly tripled. It will be interesting to explore what all other insights can be obtained from the same dataset.\n",
        "\n",
        "Integrating this dataset with other external datasets such as IMDB ratings, rotten tomatoes can also provide many interesting findings.\n",
        "\n",
        "In this project, you are required to do\n",
        "\n",
        "\n",
        "*   Exploratory Data Analysis\n",
        "\n",
        "*   Understanding what type content is available in different countries\n",
        "\n",
        "*   If Netflix has been increasingly focusing on TV rather than movies in recent years.\n",
        "\n",
        "*   Clustering similar content by matching text-based features\n",
        "\n",
        "\n",
        "![Unsupervised_ML_Netflix_Movies_and_TV_Shows_Clustering_ce34d02ec9.png](data:image/png;base64,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)\n",
        "\n",
        "\n",
        "\n",
        "\n",
        "\n",
        "\n",
        "\n",
        "\n",
        "\n",
        "\n",
        "\n"
      ],
      "metadata": {
        "id": "DpeJGUA3kjGy"
      }
    },
    {
      "cell_type": "markdown",
      "source": [
        "**Follwing are the descriptions for different ratings in data:**\n",
        "\n",
        "1. TV-MA: This rating stands for \"Mature Audiences Only\" and indicates that the content of a TV show is intended for adults and may contain mature themes, language, violence, and sexual content.\n",
        "\n",
        "2. R: This rating is assigned by the Motion Picture Association of America (MPAA) and indicates that the content of a movie is intended for adults and may contain strong language, violence, nudity, and sexual content.\n",
        "\n",
        "3. PG-13: This rating is assigned by the MPAA and indicates that the content of a movie may be inappropriate for children under 13 and may contain violence, language, and sexual content.\n",
        "\n",
        "4. TV-14: This rating indicates that the content of a TV show is intended for older teens and may contain mature themes, language, violence, and sexual content.\n",
        "\n",
        "5. TV-PG: This rating indicates that the content of a TV show may be inappropriate for children and may contain mature themes, language, and violence.\n",
        "\n",
        "6. NR: This rating stands for \"Not Rated\" and means that a movie or TV show has not been officially rated by the MPAA or the TV Parental Guidelines.\n",
        "\n",
        "7. TV-G: This rating indicates that the content of a TV show is suitable for all audiences and contains little or no violence, sexual content, or mature themes.\n",
        "\n",
        "8. TV-Y: This rating indicates that the content of a TV show is suitable for young children and contains little or no violence, sexual content, or mature themes.\n",
        "\n",
        "9. NaN: NaN stands for \"Not a Number\" and is a special value that represents missing or undefined data.\n",
        "\n",
        "10. TV-Y7: This rating indicates that the content of a TV show is intended for children 7 years and older and may contain fantasy violence.\n",
        "\n",
        "11. PG: This rating is assigned by the MPAA and indicates that the content of a movie may be inappropriate for children and may contain violence, language, and sexual content.\n",
        "\n",
        "12. G: This rating stands for General Audiences. This rating is assigned to movies and TV shows that are suitable for all audiences and contains little or no violence, sexual content, or mature themes.\n",
        "\n",
        "13. NC-17: This rating is assigned by the MPAA and indicates that the content of a movie is intended for adults only and may contain explicit sexual content and violence.\n",
        "\n",
        "14. TV-Y7-FV: This rating indicates that the content of a TV show is intended for children 7 years and older and may contain fantasy violence.\n",
        "\n",
        "15. UR: This rating stands for \"Unrated\" and means that a movie or TV show has not been officially rated by the MPAA or the TV Parental Guidelines.\n"
      ],
      "metadata": {
        "id": "bHTjy7pdy6zC"
      }
    },
    {
      "cell_type": "markdown",
      "source": [
        "# **General Guidelines** : -  "
      ],
      "metadata": {
        "id": "mDgbUHAGgjLW"
      }
    },
    {
      "cell_type": "markdown",
      "source": [
        "1.   Well-structured, formatted, and commented code is required. \n",
        "2.   Exception Handling, Production Grade Code & Deployment Ready Code will be a plus. Those students will be awarded some additional credits. \n",
        "     \n",
        "     The additional credits will have advantages over other students during Star Student selection.\n",
        "       \n",
        "             [ Note: - Deployment Ready Code is defined as, the whole .ipynb notebook should be executable in one go\n",
        "                       without a single error logged. ]\n",
        "\n",
        "3.   Each and every logic should have proper comments.\n",
        "4. You may add as many number of charts you want. Make Sure for each and every chart the following format should be answered.\n",
        "        \n",
        "\n",
        "```\n",
        "# Chart visualization code\n",
        "```\n",
        "            \n",
        "\n",
        "*   Why did you pick the specific chart?\n",
        "*   What is/are the insight(s) found from the chart?\n",
        "* Will the gained insights help creating a positive business impact? \n",
        "Are there any insights that lead to negative growth? Justify with specific reason.\n",
        "\n",
        "5. You have to create at least 15 logical & meaningful charts having important insights.\n",
        "\n",
        "\n",
        "[ Hints : - Do the Vizualization in  a structured way while following \"UBM\" Rule. \n",
        "\n",
        "U - Univariate Analysis,\n",
        "\n",
        "B - Bivariate Analysis (Numerical - Categorical, Numerical - Numerical, Categorical - Categorical)\n",
        "\n",
        "M - Multivariate Analysis\n",
        " ]\n",
        "\n",
        "\n",
        "\n",
        "\n",
        "\n",
        "6. You may add more ml algorithms for model creation. Make sure for each and every algorithm, the following format should be answered.\n",
        "\n",
        "\n",
        "*   Explain the ML Model used and it's performance using Evaluation metric Score Chart.\n",
        "\n",
        "\n",
        "*   Cross- Validation & Hyperparameter Tuning\n",
        "\n",
        "*   Have you seen any improvement? Note down the improvement with updates Evaluation metric Score Chart.\n",
        "\n",
        "*   Explain each evaluation metric's indication towards business and the business impact pf the ML model used.\n",
        "\n",
        "\n",
        "\n",
        "\n",
        "\n",
        "\n",
        "\n",
        "\n",
        "\n",
        "\n",
        "\n",
        "\n",
        "\n",
        "\n",
        "\n",
        "\n",
        "\n",
        "\n"
      ],
      "metadata": {
        "id": "ZrxVaUj-hHfC"
      }
    },
    {
      "cell_type": "markdown",
      "source": [
        "# ***Let's Begin !***"
      ],
      "metadata": {
        "id": "O_i_v8NEhb9l"
      }
    },
    {
      "cell_type": "markdown",
      "source": [
        "## ***1. Know Your Data***"
      ],
      "metadata": {
        "id": "HhfV-JJviCcP"
      }
    },
    {
      "cell_type": "markdown",
      "source": [
        "### Import Libraries"
      ],
      "metadata": {
        "id": "Y3lxredqlCYt"
      }
    },
    {
      "cell_type": "code",
      "source": [
        "# Import Libraries\n",
        "# Import Libraries\n",
        "import numpy as np\n",
        "import pandas as pd\n",
        "import matplotlib.pyplot as plt\n",
        "import seaborn as sns\n",
        "%matplotlib inline\n",
        "\n",
        "import datetime"
      ],
      "metadata": {
        "id": "M8Vqi-pPk-HR"
      },
      "execution_count": null,
      "outputs": []
    },
    {
      "cell_type": "markdown",
      "source": [
        "### Dataset Loading"
      ],
      "metadata": {
        "id": "3RnN4peoiCZX"
      }
    },
    {
      "cell_type": "code",
      "source": [
        "# Load Dataset\n",
        "from google.colab import drive\n",
        "drive.mount('/content/drive')"
      ],
      "metadata": {
        "id": "4CkvbW_SlZ_R",
        "colab": {
          "base_uri": "https://localhost:8080/"
        },
        "outputId": "78ce1406-4e54-46a0-f62f-749042c9dfe7"
      },
      "execution_count": null,
      "outputs": [
        {
          "output_type": "stream",
          "name": "stdout",
          "text": [
            "Mounted at /content/drive\n"
          ]
        }
      ]
    },
    {
      "cell_type": "code",
      "source": [
        "df = pd.read_csv(\"/content/drive/MyDrive/NETFLIX MOVIES AND TV SHOWS CLUSTERING/Data/NETFLIX MOVIES AND TV SHOWS CLUSTERING.csv\")"
      ],
      "metadata": {
        "id": "6kmPzttGzwAe"
      },
      "execution_count": null,
      "outputs": []
    },
    {
      "cell_type": "markdown",
      "source": [
        "### Dataset First View"
      ],
      "metadata": {
        "id": "x71ZqKXriCWQ"
      }
    },
    {
      "cell_type": "code",
      "source": [
        "# Dataset First Look\n",
        "df.head()"
      ],
      "metadata": {
        "id": "LWNFOSvLl09H",
        "colab": {
          "base_uri": "https://localhost:8080/",
          "height": 406
        },
        "outputId": "b4d4148b-86f9-43bf-9f4d-88a9c7830f4a"
      },
      "execution_count": null,
      "outputs": [
        {
          "output_type": "execute_result",
          "data": {
            "text/plain": [
              "  show_id     type  title           director  \\\n",
              "0      s1  TV Show     3%                NaN   \n",
              "1      s2    Movie   7:19  Jorge Michel Grau   \n",
              "2      s3    Movie  23:59       Gilbert Chan   \n",
              "3      s4    Movie      9        Shane Acker   \n",
              "4      s5    Movie     21     Robert Luketic   \n",
              "\n",
              "                                                cast        country  \\\n",
              "0  João Miguel, Bianca Comparato, Michel Gomes, R...         Brazil   \n",
              "1  Demián Bichir, Héctor Bonilla, Oscar Serrano, ...         Mexico   \n",
              "2  Tedd Chan, Stella Chung, Henley Hii, Lawrence ...      Singapore   \n",
              "3  Elijah Wood, John C. Reilly, Jennifer Connelly...  United States   \n",
              "4  Jim Sturgess, Kevin Spacey, Kate Bosworth, Aar...  United States   \n",
              "\n",
              "          date_added  release_year rating   duration  \\\n",
              "0    August 14, 2020          2020  TV-MA  4 Seasons   \n",
              "1  December 23, 2016          2016  TV-MA     93 min   \n",
              "2  December 20, 2018          2011      R     78 min   \n",
              "3  November 16, 2017          2009  PG-13     80 min   \n",
              "4    January 1, 2020          2008  PG-13    123 min   \n",
              "\n",
              "                                           listed_in  \\\n",
              "0  International TV Shows, TV Dramas, TV Sci-Fi &...   \n",
              "1                       Dramas, International Movies   \n",
              "2                Horror Movies, International Movies   \n",
              "3  Action & Adventure, Independent Movies, Sci-Fi...   \n",
              "4                                             Dramas   \n",
              "\n",
              "                                         description  \n",
              "0  In a future where the elite inhabit an island ...  \n",
              "1  After a devastating earthquake hits Mexico Cit...  \n",
              "2  When an army recruit is found dead, his fellow...  \n",
              "3  In a postapocalyptic world, rag-doll robots hi...  \n",
              "4  A brilliant group of students become card-coun...  "
            ],
            "text/html": [
              "\n",
              "  <div id=\"df-4a9faf82-cdb1-4101-97bb-31c397ea27f2\">\n",
              "    <div class=\"colab-df-container\">\n",
              "      <div>\n",
              "<style scoped>\n",
              "    .dataframe tbody tr th:only-of-type {\n",
              "        vertical-align: middle;\n",
              "    }\n",
              "\n",
              "    .dataframe tbody tr th {\n",
              "        vertical-align: top;\n",
              "    }\n",
              "\n",
              "    .dataframe thead th {\n",
              "        text-align: right;\n",
              "    }\n",
              "</style>\n",
              "<table border=\"1\" class=\"dataframe\">\n",
              "  <thead>\n",
              "    <tr style=\"text-align: right;\">\n",
              "      <th></th>\n",
              "      <th>show_id</th>\n",
              "      <th>type</th>\n",
              "      <th>title</th>\n",
              "      <th>director</th>\n",
              "      <th>cast</th>\n",
              "      <th>country</th>\n",
              "      <th>date_added</th>\n",
              "      <th>release_year</th>\n",
              "      <th>rating</th>\n",
              "      <th>duration</th>\n",
              "      <th>listed_in</th>\n",
              "      <th>description</th>\n",
              "    </tr>\n",
              "  </thead>\n",
              "  <tbody>\n",
              "    <tr>\n",
              "      <th>0</th>\n",
              "      <td>s1</td>\n",
              "      <td>TV Show</td>\n",
              "      <td>3%</td>\n",
              "      <td>NaN</td>\n",
              "      <td>João Miguel, Bianca Comparato, Michel Gomes, R...</td>\n",
              "      <td>Brazil</td>\n",
              "      <td>August 14, 2020</td>\n",
              "      <td>2020</td>\n",
              "      <td>TV-MA</td>\n",
              "      <td>4 Seasons</td>\n",
              "      <td>International TV Shows, TV Dramas, TV Sci-Fi &amp;...</td>\n",
              "      <td>In a future where the elite inhabit an island ...</td>\n",
              "    </tr>\n",
              "    <tr>\n",
              "      <th>1</th>\n",
              "      <td>s2</td>\n",
              "      <td>Movie</td>\n",
              "      <td>7:19</td>\n",
              "      <td>Jorge Michel Grau</td>\n",
              "      <td>Demián Bichir, Héctor Bonilla, Oscar Serrano, ...</td>\n",
              "      <td>Mexico</td>\n",
              "      <td>December 23, 2016</td>\n",
              "      <td>2016</td>\n",
              "      <td>TV-MA</td>\n",
              "      <td>93 min</td>\n",
              "      <td>Dramas, International Movies</td>\n",
              "      <td>After a devastating earthquake hits Mexico Cit...</td>\n",
              "    </tr>\n",
              "    <tr>\n",
              "      <th>2</th>\n",
              "      <td>s3</td>\n",
              "      <td>Movie</td>\n",
              "      <td>23:59</td>\n",
              "      <td>Gilbert Chan</td>\n",
              "      <td>Tedd Chan, Stella Chung, Henley Hii, Lawrence ...</td>\n",
              "      <td>Singapore</td>\n",
              "      <td>December 20, 2018</td>\n",
              "      <td>2011</td>\n",
              "      <td>R</td>\n",
              "      <td>78 min</td>\n",
              "      <td>Horror Movies, International Movies</td>\n",
              "      <td>When an army recruit is found dead, his fellow...</td>\n",
              "    </tr>\n",
              "    <tr>\n",
              "      <th>3</th>\n",
              "      <td>s4</td>\n",
              "      <td>Movie</td>\n",
              "      <td>9</td>\n",
              "      <td>Shane Acker</td>\n",
              "      <td>Elijah Wood, John C. Reilly, Jennifer Connelly...</td>\n",
              "      <td>United States</td>\n",
              "      <td>November 16, 2017</td>\n",
              "      <td>2009</td>\n",
              "      <td>PG-13</td>\n",
              "      <td>80 min</td>\n",
              "      <td>Action &amp; Adventure, Independent Movies, Sci-Fi...</td>\n",
              "      <td>In a postapocalyptic world, rag-doll robots hi...</td>\n",
              "    </tr>\n",
              "    <tr>\n",
              "      <th>4</th>\n",
              "      <td>s5</td>\n",
              "      <td>Movie</td>\n",
              "      <td>21</td>\n",
              "      <td>Robert Luketic</td>\n",
              "      <td>Jim Sturgess, Kevin Spacey, Kate Bosworth, Aar...</td>\n",
              "      <td>United States</td>\n",
              "      <td>January 1, 2020</td>\n",
              "      <td>2008</td>\n",
              "      <td>PG-13</td>\n",
              "      <td>123 min</td>\n",
              "      <td>Dramas</td>\n",
              "      <td>A brilliant group of students become card-coun...</td>\n",
              "    </tr>\n",
              "  </tbody>\n",
              "</table>\n",
              "</div>\n",
              "      <button class=\"colab-df-convert\" onclick=\"convertToInteractive('df-4a9faf82-cdb1-4101-97bb-31c397ea27f2')\"\n",
              "              title=\"Convert this dataframe to an interactive table.\"\n",
              "              style=\"display:none;\">\n",
              "        \n",
              "  <svg xmlns=\"http://www.w3.org/2000/svg\" height=\"24px\"viewBox=\"0 0 24 24\"\n",
              "       width=\"24px\">\n",
              "    <path d=\"M0 0h24v24H0V0z\" fill=\"none\"/>\n",
              "    <path d=\"M18.56 5.44l.94 2.06.94-2.06 2.06-.94-2.06-.94-.94-2.06-.94 2.06-2.06.94zm-11 1L8.5 8.5l.94-2.06 2.06-.94-2.06-.94L8.5 2.5l-.94 2.06-2.06.94zm10 10l.94 2.06.94-2.06 2.06-.94-2.06-.94-.94-2.06-.94 2.06-2.06.94z\"/><path d=\"M17.41 7.96l-1.37-1.37c-.4-.4-.92-.59-1.43-.59-.52 0-1.04.2-1.43.59L10.3 9.45l-7.72 7.72c-.78.78-.78 2.05 0 2.83L4 21.41c.39.39.9.59 1.41.59.51 0 1.02-.2 1.41-.59l7.78-7.78 2.81-2.81c.8-.78.8-2.07 0-2.86zM5.41 20L4 18.59l7.72-7.72 1.47 1.35L5.41 20z\"/>\n",
              "  </svg>\n",
              "      </button>\n",
              "      \n",
              "  <style>\n",
              "    .colab-df-container {\n",
              "      display:flex;\n",
              "      flex-wrap:wrap;\n",
              "      gap: 12px;\n",
              "    }\n",
              "\n",
              "    .colab-df-convert {\n",
              "      background-color: #E8F0FE;\n",
              "      border: none;\n",
              "      border-radius: 50%;\n",
              "      cursor: pointer;\n",
              "      display: none;\n",
              "      fill: #1967D2;\n",
              "      height: 32px;\n",
              "      padding: 0 0 0 0;\n",
              "      width: 32px;\n",
              "    }\n",
              "\n",
              "    .colab-df-convert:hover {\n",
              "      background-color: #E2EBFA;\n",
              "      box-shadow: 0px 1px 2px rgba(60, 64, 67, 0.3), 0px 1px 3px 1px rgba(60, 64, 67, 0.15);\n",
              "      fill: #174EA6;\n",
              "    }\n",
              "\n",
              "    [theme=dark] .colab-df-convert {\n",
              "      background-color: #3B4455;\n",
              "      fill: #D2E3FC;\n",
              "    }\n",
              "\n",
              "    [theme=dark] .colab-df-convert:hover {\n",
              "      background-color: #434B5C;\n",
              "      box-shadow: 0px 1px 3px 1px rgba(0, 0, 0, 0.15);\n",
              "      filter: drop-shadow(0px 1px 2px rgba(0, 0, 0, 0.3));\n",
              "      fill: #FFFFFF;\n",
              "    }\n",
              "  </style>\n",
              "\n",
              "      <script>\n",
              "        const buttonEl =\n",
              "          document.querySelector('#df-4a9faf82-cdb1-4101-97bb-31c397ea27f2 button.colab-df-convert');\n",
              "        buttonEl.style.display =\n",
              "          google.colab.kernel.accessAllowed ? 'block' : 'none';\n",
              "\n",
              "        async function convertToInteractive(key) {\n",
              "          const element = document.querySelector('#df-4a9faf82-cdb1-4101-97bb-31c397ea27f2');\n",
              "          const dataTable =\n",
              "            await google.colab.kernel.invokeFunction('convertToInteractive',\n",
              "                                                     [key], {});\n",
              "          if (!dataTable) return;\n",
              "\n",
              "          const docLinkHtml = 'Like what you see? Visit the ' +\n",
              "            '<a target=\"_blank\" href=https://colab.research.google.com/notebooks/data_table.ipynb>data table notebook</a>'\n",
              "            + ' to learn more about interactive tables.';\n",
              "          element.innerHTML = '';\n",
              "          dataTable['output_type'] = 'display_data';\n",
              "          await google.colab.output.renderOutput(dataTable, element);\n",
              "          const docLink = document.createElement('div');\n",
              "          docLink.innerHTML = docLinkHtml;\n",
              "          element.appendChild(docLink);\n",
              "        }\n",
              "      </script>\n",
              "    </div>\n",
              "  </div>\n",
              "  "
            ]
          },
          "metadata": {},
          "execution_count": 4
        }
      ]
    },
    {
      "cell_type": "markdown",
      "source": [
        "### Dataset Rows & Columns count"
      ],
      "metadata": {
        "id": "7hBIi_osiCS2"
      }
    },
    {
      "cell_type": "code",
      "source": [
        "# Dataset Rows & Columns count\n",
        "df.shape"
      ],
      "metadata": {
        "id": "Kllu7SJgmLij",
        "colab": {
          "base_uri": "https://localhost:8080/"
        },
        "outputId": "82c07027-71e3-450f-8a67-73737df0a788"
      },
      "execution_count": null,
      "outputs": [
        {
          "output_type": "execute_result",
          "data": {
            "text/plain": [
              "(7787, 12)"
            ]
          },
          "metadata": {},
          "execution_count": 5
        }
      ]
    },
    {
      "cell_type": "markdown",
      "source": [
        "### Dataset Information"
      ],
      "metadata": {
        "id": "JlHwYmJAmNHm"
      }
    },
    {
      "cell_type": "code",
      "source": [
        "# Dataset Info\n",
        "df.info()"
      ],
      "metadata": {
        "id": "e9hRXRi6meOf",
        "colab": {
          "base_uri": "https://localhost:8080/"
        },
        "outputId": "900847ec-86ca-4820-e19b-846e9fb025b8"
      },
      "execution_count": null,
      "outputs": [
        {
          "output_type": "stream",
          "name": "stdout",
          "text": [
            "<class 'pandas.core.frame.DataFrame'>\n",
            "RangeIndex: 7787 entries, 0 to 7786\n",
            "Data columns (total 12 columns):\n",
            " #   Column        Non-Null Count  Dtype \n",
            "---  ------        --------------  ----- \n",
            " 0   show_id       7787 non-null   object\n",
            " 1   type          7787 non-null   object\n",
            " 2   title         7787 non-null   object\n",
            " 3   director      5398 non-null   object\n",
            " 4   cast          7069 non-null   object\n",
            " 5   country       7280 non-null   object\n",
            " 6   date_added    7777 non-null   object\n",
            " 7   release_year  7787 non-null   int64 \n",
            " 8   rating        7780 non-null   object\n",
            " 9   duration      7787 non-null   object\n",
            " 10  listed_in     7787 non-null   object\n",
            " 11  description   7787 non-null   object\n",
            "dtypes: int64(1), object(11)\n",
            "memory usage: 730.2+ KB\n"
          ]
        }
      ]
    },
    {
      "cell_type": "markdown",
      "source": [
        "#### Duplicate Values"
      ],
      "metadata": {
        "id": "35m5QtbWiB9F"
      }
    },
    {
      "cell_type": "code",
      "source": [
        "# Dataset Duplicate Value Count\n",
        "df.duplicated().sum()"
      ],
      "metadata": {
        "id": "1sLdpKYkmox0",
        "colab": {
          "base_uri": "https://localhost:8080/"
        },
        "outputId": "1867f511-c496-48fa-b56a-d5d9a2a564fd"
      },
      "execution_count": null,
      "outputs": [
        {
          "output_type": "execute_result",
          "data": {
            "text/plain": [
              "0"
            ]
          },
          "metadata": {},
          "execution_count": 7
        }
      ]
    },
    {
      "cell_type": "markdown",
      "source": [
        "#### Missing Values/Null Values"
      ],
      "metadata": {
        "id": "PoPl-ycgm1ru"
      }
    },
    {
      "cell_type": "code",
      "source": [
        "# Missing Values/Null Values Count\n",
        "df.isna().sum()"
      ],
      "metadata": {
        "id": "GgHWkxvamxVg",
        "colab": {
          "base_uri": "https://localhost:8080/"
        },
        "outputId": "50bff053-35d0-41eb-9620-ea990f10ec73"
      },
      "execution_count": null,
      "outputs": [
        {
          "output_type": "execute_result",
          "data": {
            "text/plain": [
              "show_id            0\n",
              "type               0\n",
              "title              0\n",
              "director        2389\n",
              "cast             718\n",
              "country          507\n",
              "date_added        10\n",
              "release_year       0\n",
              "rating             7\n",
              "duration           0\n",
              "listed_in          0\n",
              "description        0\n",
              "dtype: int64"
            ]
          },
          "metadata": {},
          "execution_count": 8
        }
      ]
    },
    {
      "cell_type": "code",
      "source": [
        "# Visualizing the missing values\n",
        "# setting configuration for our plots\n",
        "plt.rcParams['figure.figsize'] = (15, 5)\n",
        "\n",
        "sns.heatmap(df.isnull(),yticklabels=False,cbar=False,cmap='viridis')\n",
        "plt.xlabel('Column Names')\n",
        "plt.ylabel('NullValues in yellow shadow.')"
      ],
      "metadata": {
        "id": "3q5wnI3om9sJ",
        "colab": {
          "base_uri": "https://localhost:8080/",
          "height": 352
        },
        "outputId": "d57398a2-a3fa-4e8a-8a7a-9a44a1c6a8c9"
      },
      "execution_count": null,
      "outputs": [
        {
          "output_type": "execute_result",
          "data": {
            "text/plain": [
              "Text(131.0, 0.5, 'NullValues in yellow shadow.')"
            ]
          },
          "metadata": {},
          "execution_count": 9
        },
        {
          "output_type": "display_data",
          "data": {
            "text/plain": [
              "<Figure size 1080x360 with 1 Axes>"
            ],
            "image/png": "[encoded data removed]"
          },
          "metadata": {
            "needs_background": "light"
          }
        }
      ]
    },
    {
      "cell_type": "markdown",
      "source": [
        "### What did you know about your dataset?"
      ],
      "metadata": {
        "id": "H0kj-8xxnORC"
      }
    },
    {
      "cell_type": "markdown",
      "source": [
        "*   There are 7787 rows and 12 columns.\n",
        "*   director, cast, country, date_added columns had null values, with director column having maximum 2389 null values in it.\n",
        "*   There is no duplication of rows in data."
      ],
      "metadata": {
        "id": "gfoNAAC-nUe_"
      }
    },
    {
      "cell_type": "markdown",
      "source": [
        "## ***2. Understanding Your Variables***"
      ],
      "metadata": {
        "id": "nA9Y7ga8ng1Z"
      }
    },
    {
      "cell_type": "code",
      "source": [
        "# Dataset Columns\n",
        "df.columns"
      ],
      "metadata": {
        "id": "j7xfkqrt5Ag5",
        "colab": {
          "base_uri": "https://localhost:8080/"
        },
        "outputId": "d42f2595-c9f0-4be3-dee5-5541164eb028"
      },
      "execution_count": null,
      "outputs": [
        {
          "output_type": "execute_result",
          "data": {
            "text/plain": [
              "Index(['show_id', 'type', 'title', 'director', 'cast', 'country', 'date_added',\n",
              "       'release_year', 'rating', 'duration', 'listed_in', 'description'],\n",
              "      dtype='object')"
            ]
          },
          "metadata": {},
          "execution_count": 10
        }
      ]
    },
    {
      "cell_type": "code",
      "source": [
        "# Dataset Describe\n",
        "df.describe(include='all')"
      ],
      "metadata": {
        "id": "DnOaZdaE5Q5t",
        "colab": {
          "base_uri": "https://localhost:8080/",
          "height": 455
        },
        "outputId": "ad0c0058-4da7-4f1b-ddfa-0c286a6a1b9a"
      },
      "execution_count": null,
      "outputs": [
        {
          "output_type": "execute_result",
          "data": {
            "text/plain": [
              "       show_id   type title                director                cast  \\\n",
              "count     7787   7787  7787                    5398                7069   \n",
              "unique    7787      2  7787                    4049                6831   \n",
              "top         s1  Movie    3%  Raúl Campos, Jan Suter  David Attenborough   \n",
              "freq         1   5377     1                      18                  18   \n",
              "mean       NaN    NaN   NaN                     NaN                 NaN   \n",
              "std        NaN    NaN   NaN                     NaN                 NaN   \n",
              "min        NaN    NaN   NaN                     NaN                 NaN   \n",
              "25%        NaN    NaN   NaN                     NaN                 NaN   \n",
              "50%        NaN    NaN   NaN                     NaN                 NaN   \n",
              "75%        NaN    NaN   NaN                     NaN                 NaN   \n",
              "max        NaN    NaN   NaN                     NaN                 NaN   \n",
              "\n",
              "              country       date_added  release_year rating  duration  \\\n",
              "count            7280             7777   7787.000000   7780      7787   \n",
              "unique            681             1565           NaN     14       216   \n",
              "top     United States  January 1, 2020           NaN  TV-MA  1 Season   \n",
              "freq             2555              118           NaN   2863      1608   \n",
              "mean              NaN              NaN   2013.932580    NaN       NaN   \n",
              "std               NaN              NaN      8.757395    NaN       NaN   \n",
              "min               NaN              NaN   1925.000000    NaN       NaN   \n",
              "25%               NaN              NaN   2013.000000    NaN       NaN   \n",
              "50%               NaN              NaN   2017.000000    NaN       NaN   \n",
              "75%               NaN              NaN   2018.000000    NaN       NaN   \n",
              "max               NaN              NaN   2021.000000    NaN       NaN   \n",
              "\n",
              "            listed_in                                        description  \n",
              "count            7787                                               7787  \n",
              "unique            492                                               7769  \n",
              "top     Documentaries  Multiple women report their husbands as missin...  \n",
              "freq              334                                                  3  \n",
              "mean              NaN                                                NaN  \n",
              "std               NaN                                                NaN  \n",
              "min               NaN                                                NaN  \n",
              "25%               NaN                                                NaN  \n",
              "50%               NaN                                                NaN  \n",
              "75%               NaN                                                NaN  \n",
              "max               NaN                                                NaN  "
            ],
            "text/html": [
              "\n",
              "  <div id=\"df-0d61fced-ce8b-40c3-a8b0-74880e126651\">\n",
              "    <div class=\"colab-df-container\">\n",
              "      <div>\n",
              "<style scoped>\n",
              "    .dataframe tbody tr th:only-of-type {\n",
              "        vertical-align: middle;\n",
              "    }\n",
              "\n",
              "    .dataframe tbody tr th {\n",
              "        vertical-align: top;\n",
              "    }\n",
              "\n",
              "    .dataframe thead th {\n",
              "        text-align: right;\n",
              "    }\n",
              "</style>\n",
              "<table border=\"1\" class=\"dataframe\">\n",
              "  <thead>\n",
              "    <tr style=\"text-align: right;\">\n",
              "      <th></th>\n",
              "      <th>show_id</th>\n",
              "      <th>type</th>\n",
              "      <th>title</th>\n",
              "      <th>director</th>\n",
              "      <th>cast</th>\n",
              "      <th>country</th>\n",
              "      <th>date_added</th>\n",
              "      <th>release_year</th>\n",
              "      <th>rating</th>\n",
              "      <th>duration</th>\n",
              "      <th>listed_in</th>\n",
              "      <th>description</th>\n",
              "    </tr>\n",
              "  </thead>\n",
              "  <tbody>\n",
              "    <tr>\n",
              "      <th>count</th>\n",
              "      <td>7787</td>\n",
              "      <td>7787</td>\n",
              "      <td>7787</td>\n",
              "      <td>5398</td>\n",
              "      <td>7069</td>\n",
              "      <td>7280</td>\n",
              "      <td>7777</td>\n",
              "      <td>7787.000000</td>\n",
              "      <td>7780</td>\n",
              "      <td>7787</td>\n",
              "      <td>7787</td>\n",
              "      <td>7787</td>\n",
              "    </tr>\n",
              "    <tr>\n",
              "      <th>unique</th>\n",
              "      <td>7787</td>\n",
              "      <td>2</td>\n",
              "      <td>7787</td>\n",
              "      <td>4049</td>\n",
              "      <td>6831</td>\n",
              "      <td>681</td>\n",
              "      <td>1565</td>\n",
              "      <td>NaN</td>\n",
              "      <td>14</td>\n",
              "      <td>216</td>\n",
              "      <td>492</td>\n",
              "      <td>7769</td>\n",
              "    </tr>\n",
              "    <tr>\n",
              "      <th>top</th>\n",
              "      <td>s1</td>\n",
              "      <td>Movie</td>\n",
              "      <td>3%</td>\n",
              "      <td>Raúl Campos, Jan Suter</td>\n",
              "      <td>David Attenborough</td>\n",
              "      <td>United States</td>\n",
              "      <td>January 1, 2020</td>\n",
              "      <td>NaN</td>\n",
              "      <td>TV-MA</td>\n",
              "      <td>1 Season</td>\n",
              "      <td>Documentaries</td>\n",
              "      <td>Multiple women report their husbands as missin...</td>\n",
              "    </tr>\n",
              "    <tr>\n",
              "      <th>freq</th>\n",
              "      <td>1</td>\n",
              "      <td>5377</td>\n",
              "      <td>1</td>\n",
              "      <td>18</td>\n",
              "      <td>18</td>\n",
              "      <td>2555</td>\n",
              "      <td>118</td>\n",
              "      <td>NaN</td>\n",
              "      <td>2863</td>\n",
              "      <td>1608</td>\n",
              "      <td>334</td>\n",
              "      <td>3</td>\n",
              "    </tr>\n",
              "    <tr>\n",
              "      <th>mean</th>\n",
              "      <td>NaN</td>\n",
              "      <td>NaN</td>\n",
              "      <td>NaN</td>\n",
              "      <td>NaN</td>\n",
              "      <td>NaN</td>\n",
              "      <td>NaN</td>\n",
              "      <td>NaN</td>\n",
              "      <td>2013.932580</td>\n",
              "      <td>NaN</td>\n",
              "      <td>NaN</td>\n",
              "      <td>NaN</td>\n",
              "      <td>NaN</td>\n",
              "    </tr>\n",
              "    <tr>\n",
              "      <th>std</th>\n",
              "      <td>NaN</td>\n",
              "      <td>NaN</td>\n",
              "      <td>NaN</td>\n",
              "      <td>NaN</td>\n",
              "      <td>NaN</td>\n",
              "      <td>NaN</td>\n",
              "      <td>NaN</td>\n",
              "      <td>8.757395</td>\n",
              "      <td>NaN</td>\n",
              "      <td>NaN</td>\n",
              "      <td>NaN</td>\n",
              "      <td>NaN</td>\n",
              "    </tr>\n",
              "    <tr>\n",
              "      <th>min</th>\n",
              "      <td>NaN</td>\n",
              "      <td>NaN</td>\n",
              "      <td>NaN</td>\n",
              "      <td>NaN</td>\n",
              "      <td>NaN</td>\n",
              "      <td>NaN</td>\n",
              "      <td>NaN</td>\n",
              "      <td>1925.000000</td>\n",
              "      <td>NaN</td>\n",
              "      <td>NaN</td>\n",
              "      <td>NaN</td>\n",
              "      <td>NaN</td>\n",
              "    </tr>\n",
              "    <tr>\n",
              "      <th>25%</th>\n",
              "      <td>NaN</td>\n",
              "      <td>NaN</td>\n",
              "      <td>NaN</td>\n",
              "      <td>NaN</td>\n",
              "      <td>NaN</td>\n",
              "      <td>NaN</td>\n",
              "      <td>NaN</td>\n",
              "      <td>2013.000000</td>\n",
              "      <td>NaN</td>\n",
              "      <td>NaN</td>\n",
              "      <td>NaN</td>\n",
              "      <td>NaN</td>\n",
              "    </tr>\n",
              "    <tr>\n",
              "      <th>50%</th>\n",
              "      <td>NaN</td>\n",
              "      <td>NaN</td>\n",
              "      <td>NaN</td>\n",
              "      <td>NaN</td>\n",
              "      <td>NaN</td>\n",
              "      <td>NaN</td>\n",
              "      <td>NaN</td>\n",
              "      <td>2017.000000</td>\n",
              "      <td>NaN</td>\n",
              "      <td>NaN</td>\n",
              "      <td>NaN</td>\n",
              "      <td>NaN</td>\n",
              "    </tr>\n",
              "    <tr>\n",
              "      <th>75%</th>\n",
              "      <td>NaN</td>\n",
              "      <td>NaN</td>\n",
              "      <td>NaN</td>\n",
              "      <td>NaN</td>\n",
              "      <td>NaN</td>\n",
              "      <td>NaN</td>\n",
              "      <td>NaN</td>\n",
              "      <td>2018.000000</td>\n",
              "      <td>NaN</td>\n",
              "      <td>NaN</td>\n",
              "      <td>NaN</td>\n",
              "      <td>NaN</td>\n",
              "    </tr>\n",
              "    <tr>\n",
              "      <th>max</th>\n",
              "      <td>NaN</td>\n",
              "      <td>NaN</td>\n",
              "      <td>NaN</td>\n",
              "      <td>NaN</td>\n",
              "      <td>NaN</td>\n",
              "      <td>NaN</td>\n",
              "      <td>NaN</td>\n",
              "      <td>2021.000000</td>\n",
              "      <td>NaN</td>\n",
              "      <td>NaN</td>\n",
              "      <td>NaN</td>\n",
              "      <td>NaN</td>\n",
              "    </tr>\n",
              "  </tbody>\n",
              "</table>\n",
              "</div>\n",
              "      <button class=\"colab-df-convert\" onclick=\"convertToInteractive('df-0d61fced-ce8b-40c3-a8b0-74880e126651')\"\n",
              "              title=\"Convert this dataframe to an interactive table.\"\n",
              "              style=\"display:none;\">\n",
              "        \n",
              "  <svg xmlns=\"http://www.w3.org/2000/svg\" height=\"24px\"viewBox=\"0 0 24 24\"\n",
              "       width=\"24px\">\n",
              "    <path d=\"M0 0h24v24H0V0z\" fill=\"none\"/>\n",
              "    <path d=\"M18.56 5.44l.94 2.06.94-2.06 2.06-.94-2.06-.94-.94-2.06-.94 2.06-2.06.94zm-11 1L8.5 8.5l.94-2.06 2.06-.94-2.06-.94L8.5 2.5l-.94 2.06-2.06.94zm10 10l.94 2.06.94-2.06 2.06-.94-2.06-.94-.94-2.06-.94 2.06-2.06.94z\"/><path d=\"M17.41 7.96l-1.37-1.37c-.4-.4-.92-.59-1.43-.59-.52 0-1.04.2-1.43.59L10.3 9.45l-7.72 7.72c-.78.78-.78 2.05 0 2.83L4 21.41c.39.39.9.59 1.41.59.51 0 1.02-.2 1.41-.59l7.78-7.78 2.81-2.81c.8-.78.8-2.07 0-2.86zM5.41 20L4 18.59l7.72-7.72 1.47 1.35L5.41 20z\"/>\n",
              "  </svg>\n",
              "      </button>\n",
              "      \n",
              "  <style>\n",
              "    .colab-df-container {\n",
              "      display:flex;\n",
              "      flex-wrap:wrap;\n",
              "      gap: 12px;\n",
              "    }\n",
              "\n",
              "    .colab-df-convert {\n",
              "      background-color: #E8F0FE;\n",
              "      border: none;\n",
              "      border-radius: 50%;\n",
              "      cursor: pointer;\n",
              "      display: none;\n",
              "      fill: #1967D2;\n",
              "      height: 32px;\n",
              "      padding: 0 0 0 0;\n",
              "      width: 32px;\n",
              "    }\n",
              "\n",
              "    .colab-df-convert:hover {\n",
              "      background-color: #E2EBFA;\n",
              "      box-shadow: 0px 1px 2px rgba(60, 64, 67, 0.3), 0px 1px 3px 1px rgba(60, 64, 67, 0.15);\n",
              "      fill: #174EA6;\n",
              "    }\n",
              "\n",
              "    [theme=dark] .colab-df-convert {\n",
              "      background-color: #3B4455;\n",
              "      fill: #D2E3FC;\n",
              "    }\n",
              "\n",
              "    [theme=dark] .colab-df-convert:hover {\n",
              "      background-color: #434B5C;\n",
              "      box-shadow: 0px 1px 3px 1px rgba(0, 0, 0, 0.15);\n",
              "      filter: drop-shadow(0px 1px 2px rgba(0, 0, 0, 0.3));\n",
              "      fill: #FFFFFF;\n",
              "    }\n",
              "  </style>\n",
              "\n",
              "      <script>\n",
              "        const buttonEl =\n",
              "          document.querySelector('#df-0d61fced-ce8b-40c3-a8b0-74880e126651 button.colab-df-convert');\n",
              "        buttonEl.style.display =\n",
              "          google.colab.kernel.accessAllowed ? 'block' : 'none';\n",
              "\n",
              "        async function convertToInteractive(key) {\n",
              "          const element = document.querySelector('#df-0d61fced-ce8b-40c3-a8b0-74880e126651');\n",
              "          const dataTable =\n",
              "            await google.colab.kernel.invokeFunction('convertToInteractive',\n",
              "                                                     [key], {});\n",
              "          if (!dataTable) return;\n",
              "\n",
              "          const docLinkHtml = 'Like what you see? Visit the ' +\n",
              "            '<a target=\"_blank\" href=https://colab.research.google.com/notebooks/data_table.ipynb>data table notebook</a>'\n",
              "            + ' to learn more about interactive tables.';\n",
              "          element.innerHTML = '';\n",
              "          dataTable['output_type'] = 'display_data';\n",
              "          await google.colab.output.renderOutput(dataTable, element);\n",
              "          const docLink = document.createElement('div');\n",
              "          docLink.innerHTML = docLinkHtml;\n",
              "          element.appendChild(docLink);\n",
              "        }\n",
              "      </script>\n",
              "    </div>\n",
              "  </div>\n",
              "  "
            ]
          },
          "metadata": {},
          "execution_count": 11
        }
      ]
    },
    {
      "cell_type": "markdown",
      "source": [
        "### Variables Description "
      ],
      "metadata": {
        "id": "PBTbrJXOngz2"
      }
    },
    {
      "cell_type": "markdown",
      "source": [
        "Most of the columns, i.e, variables, in the data have text data, with only release_year column being int column."
      ],
      "metadata": {
        "id": "aJV4KIxSnxay"
      }
    },
    {
      "cell_type": "markdown",
      "source": [
        "### Check Unique Values for each variable."
      ],
      "metadata": {
        "id": "u3PMJOP6ngxN"
      }
    },
    {
      "cell_type": "code",
      "source": [
        "# Check Unique Values for each variable.\n",
        "df.nunique()"
      ],
      "metadata": {
        "id": "zms12Yq5n-jE",
        "colab": {
          "base_uri": "https://localhost:8080/"
        },
        "outputId": "47988944-d0e8-444d-d58b-1c8a48c32fdc"
      },
      "execution_count": null,
      "outputs": [
        {
          "output_type": "execute_result",
          "data": {
            "text/plain": [
              "show_id         7787\n",
              "type               2\n",
              "title           7787\n",
              "director        4049\n",
              "cast            6831\n",
              "country          681\n",
              "date_added      1565\n",
              "release_year      73\n",
              "rating            14\n",
              "duration         216\n",
              "listed_in        492\n",
              "description     7769\n",
              "dtype: int64"
            ]
          },
          "metadata": {},
          "execution_count": 12
        }
      ]
    },
    {
      "cell_type": "markdown",
      "source": [
        "Most of the variables have large number of unique values. Except for columns \"type\" and \"rating\""
      ],
      "metadata": {
        "id": "ivkb8eKs0y2G"
      }
    },
    {
      "cell_type": "code",
      "source": [
        "# finding unique values in type column\n",
        "df['type'].unique()"
      ],
      "metadata": {
        "colab": {
          "base_uri": "https://localhost:8080/"
        },
        "id": "KLu4-sCB1fCh",
        "outputId": "0671074e-0d5d-4fd9-b45c-952f4d9c273b"
      },
      "execution_count": null,
      "outputs": [
        {
          "output_type": "execute_result",
          "data": {
            "text/plain": [
              "array(['TV Show', 'Movie'], dtype=object)"
            ]
          },
          "metadata": {},
          "execution_count": 13
        }
      ]
    },
    {
      "cell_type": "code",
      "source": [
        "# finding unique values in rating column\n",
        "df['rating'].unique()"
      ],
      "metadata": {
        "colab": {
          "base_uri": "https://localhost:8080/"
        },
        "id": "4oq8DyW31pfV",
        "outputId": "5cbd3fda-9c2f-494e-9a70-8690d2f9316f"
      },
      "execution_count": null,
      "outputs": [
        {
          "output_type": "execute_result",
          "data": {
            "text/plain": [
              "array(['TV-MA', 'R', 'PG-13', 'TV-14', 'TV-PG', 'NR', 'TV-G', 'TV-Y', nan,\n",
              "       'TV-Y7', 'PG', 'G', 'NC-17', 'TV-Y7-FV', 'UR'], dtype=object)"
            ]
          },
          "metadata": {},
          "execution_count": 14
        }
      ]
    },
    {
      "cell_type": "code",
      "source": [
        "# unique values in director column\n",
        "df['director'].unique()"
      ],
      "metadata": {
        "colab": {
          "base_uri": "https://localhost:8080/"
        },
        "id": "1Z7kY6YK1tgN",
        "outputId": "1734dccd-f063-43f3-82ce-0621cec7c66f"
      },
      "execution_count": null,
      "outputs": [
        {
          "output_type": "execute_result",
          "data": {
            "text/plain": [
              "array([nan, 'Jorge Michel Grau', 'Gilbert Chan', ..., 'Josef Fares',\n",
              "       'Mozez Singh', 'Sam Dunn'], dtype=object)"
            ]
          },
          "metadata": {},
          "execution_count": 15
        }
      ]
    },
    {
      "cell_type": "code",
      "source": [
        "# getting value counts for each listed_in category\n",
        "df['listed_in'].value_counts()"
      ],
      "metadata": {
        "colab": {
          "base_uri": "https://localhost:8080/"
        },
        "id": "hbum9Z6116Jc",
        "outputId": "ee5c5a77-2f4d-4aee-b686-a81af84d9db0"
      },
      "execution_count": null,
      "outputs": [
        {
          "output_type": "execute_result",
          "data": {
            "text/plain": [
              "Documentaries                                                                      334\n",
              "Stand-Up Comedy                                                                    321\n",
              "Dramas, International Movies                                                       320\n",
              "Comedies, Dramas, International Movies                                             243\n",
              "Dramas, Independent Movies, International Movies                                   215\n",
              "                                                                                  ... \n",
              "Crime TV Shows, Romantic TV Shows, Spanish-Language TV Shows                         1\n",
              "Crime TV Shows, International TV Shows, Reality TV                                   1\n",
              "International Movies, Romantic Movies, Sci-Fi & Fantasy                              1\n",
              "Stand-Up Comedy & Talk Shows, TV Mysteries, TV Sci-Fi & Fantasy                      1\n",
              "International TV Shows, Spanish-Language TV Shows, Stand-Up Comedy & Talk Shows      1\n",
              "Name: listed_in, Length: 492, dtype: int64"
            ]
          },
          "metadata": {},
          "execution_count": 16
        }
      ]
    },
    {
      "cell_type": "markdown",
      "source": [
        "documentaries is the most listed category in data, followed by Stand-Up comedy, and Dramas, International Movies. Although, this can change if looked at individual genres like 'comedy' or 'international movies' if they will occurr much frequntly accross datset."
      ],
      "metadata": {
        "id": "1WkGJtbC15UF"
      }
    },
    {
      "cell_type": "markdown",
      "source": [
        "## 3. ***Data Wrangling***"
      ],
      "metadata": {
        "id": "dauF4eBmngu3"
      }
    },
    {
      "cell_type": "markdown",
      "source": [
        "### Data Wrangling Code"
      ],
      "metadata": {
        "id": "bKJF3rekwFvQ"
      }
    },
    {
      "cell_type": "code",
      "source": [
        "# Write your code to make your dataset analysis ready.\n",
        "# Converting date_added column from string to datetime format\n",
        "df['date_added'] = pd.to_datetime(df['date_added'])"
      ],
      "metadata": {
        "id": "wk-9a2fpoLcV"
      },
      "execution_count": null,
      "outputs": []
    },
    {
      "cell_type": "code",
      "source": [
        "#checking date_added column\n",
        "df[\"date_added\"]"
      ],
      "metadata": {
        "colab": {
          "base_uri": "https://localhost:8080/"
        },
        "id": "xG2NDzBf2ZpF",
        "outputId": "467cb898-4c38-40e3-b9f3-320c504d235d"
      },
      "execution_count": null,
      "outputs": [
        {
          "output_type": "execute_result",
          "data": {
            "text/plain": [
              "0      2020-08-14\n",
              "1      2016-12-23\n",
              "2      2018-12-20\n",
              "3      2017-11-16\n",
              "4      2020-01-01\n",
              "          ...    \n",
              "7782   2020-10-19\n",
              "7783   2019-03-02\n",
              "7784   2020-09-25\n",
              "7785   2020-10-31\n",
              "7786   2020-03-01\n",
              "Name: date_added, Length: 7787, dtype: datetime64[ns]"
            ]
          },
          "metadata": {},
          "execution_count": 18
        }
      ]
    },
    {
      "cell_type": "markdown",
      "source": [
        "### What is the range of dates for date_added column."
      ],
      "metadata": {
        "id": "ZSTlEav5EHNM"
      }
    },
    {
      "cell_type": "code",
      "source": [
        "# getting range of dates from date_added column\n",
        "earliest_date = str(min(df[\"date_added\"]).date())\n",
        "\n",
        "last_date = str(max(df['date_added']).date())\n",
        "\n",
        "print(f'Movies in the dataset were added from {earliest_date} to {last_date}')"
      ],
      "metadata": {
        "colab": {
          "base_uri": "https://localhost:8080/"
        },
        "id": "0jrYlGhw2e-Q",
        "outputId": "c26eeade-5bc7-44ea-a764-66aef0178efa"
      },
      "execution_count": null,
      "outputs": [
        {
          "output_type": "stream",
          "name": "stdout",
          "text": [
            "Movies in the dataset were added from 2008-01-01 to 2021-01-16\n"
          ]
        }
      ]
    },
    {
      "cell_type": "markdown",
      "source": [
        "### Getting list of all directors in dataset"
      ],
      "metadata": {
        "id": "cPkC0SIpD7a3"
      }
    },
    {
      "cell_type": "code",
      "source": [
        "# getting a list of all directors in entire dataset\n",
        "directors_list = []\n",
        "\n",
        "# iterating through each row in datset where director column does not have a null value\n",
        "for i in df[~df['director'].isna()]['director']:\n",
        "  directors_list.append(i)\n",
        "\n",
        "#printing total number of directors \n",
        "print(f'There were a total of {len(directors_list)} directors in the dataset overall.')"
      ],
      "metadata": {
        "colab": {
          "base_uri": "https://localhost:8080/"
        },
        "id": "SqSByJ9i2rSc",
        "outputId": "1d8ced5c-b8b2-4298-d49f-f5aa54271b17"
      },
      "execution_count": null,
      "outputs": [
        {
          "output_type": "stream",
          "name": "stdout",
          "text": [
            "There were a total of 5398 directors in the dataset overall.\n"
          ]
        }
      ]
    },
    {
      "cell_type": "markdown",
      "source": [
        "As some columns have more than one category in its row value. I am creating two functions to get list of all unique categories across dataset and get key for most frequently occuring category in the dataset."
      ],
      "metadata": {
        "id": "gD5v3ZkiETCl"
      }
    },
    {
      "cell_type": "code",
      "source": [
        "# creating a function to get list of categories mentioned in all of rows\n",
        "def get_category_list(column):\n",
        "  cat_list = []\n",
        "  \n",
        "  # iterating through each row in column to get a list of all individual names listed there\n",
        "  for i in column:\n",
        "    if \",\" in i:\n",
        "      m = i.split(\",\")\n",
        "      cat_list.extend(m)\n",
        "    else:\n",
        "      cat_list.append(i)\n",
        "\n",
        "  # getting unique names\n",
        "  cat_list = list(set(cat_list))\n",
        "\n",
        "  return cat_list"
      ],
      "metadata": {
        "id": "18lVj8SCEV74"
      },
      "execution_count": null,
      "outputs": []
    },
    {
      "cell_type": "code",
      "source": [
        "# creating a function to get most frequently occuring category\n",
        "from collections import Counter\n",
        "\n",
        "def maximum_occuring_category(column, list_):\n",
        "    # creating an empty dict to store frequency if each category in dataset\n",
        "    cat_freq_dict = Counter()\n",
        "\n",
        "    #iterating through each column to find list of categories from each row\n",
        "    for i in column:\n",
        "        # creating a local list to store category list splitted by \",\"\n",
        "        m= []\n",
        "        if \",\" in i:\n",
        "            m.extend(i.split(\",\"))\n",
        "        else:\n",
        "            m.append(i)\n",
        "        #iterating through cat_list to check if category exists in particular row \n",
        "        for j in range(len(list_)):\n",
        "            if list_[j] in m:\n",
        "                cat_freq_dict[list_[j]] += 1\n",
        "            else:\n",
        "                pass\n",
        "    if not cat_freq_dict:\n",
        "        return None\n",
        "    return cat_freq_dict.most_common(1)[0][0]\n"
      ],
      "metadata": {
        "id": "qwvk6yrLEfTO"
      },
      "execution_count": null,
      "outputs": []
    },
    {
      "cell_type": "markdown",
      "source": [
        "Getting number of all casts in tv shows and movies."
      ],
      "metadata": {
        "id": "qxVQTea0ErCE"
      }
    },
    {
      "cell_type": "code",
      "source": [
        "# getting list of total cast in datset\n",
        "# creating an empty list\n",
        "total_cast_list = []\n",
        "\n",
        "# appending total cast list to get cast from df where cast is not 'Nan'\n",
        "total_cast_list.extend(get_category_list(df[~df['cast'].isna()]['cast']))\n",
        "\n",
        "print(f'A total of {len(total_cast_list)} cast have worked in all of the tv shows and movies in dataset, whoosh!')"
      ],
      "metadata": {
        "colab": {
          "base_uri": "https://localhost:8080/"
        },
        "id": "QXD8Oy7KEwBs",
        "outputId": "0836f140-cbad-4606-eeea-c3e15b1a95fd"
      },
      "execution_count": null,
      "outputs": [
        {
          "output_type": "stream",
          "name": "stdout",
          "text": [
            "A total of 35372 cast have worked in all of the tv shows and movies in dataset, whoosh!\n"
          ]
        }
      ]
    },
    {
      "cell_type": "markdown",
      "source": [
        "Actor which have done maximum number of movies or tv shows"
      ],
      "metadata": {
        "id": "NKIoyVx3J7Wp"
      }
    },
    {
      "cell_type": "code",
      "source": [
        "# actors who have worked in most number of movies or tv shows\n",
        "most_freq_accouring_cast = maximum_occuring_category(df[~df['cast'].isna()]['cast'], total_cast_list)\n",
        "\n",
        "print(f'{most_freq_accouring_cast} has worked in maximum number of TV Shows or Movies in entire dataset.')"
      ],
      "metadata": {
        "colab": {
          "base_uri": "https://localhost:8080/"
        },
        "id": "pFOD1RW0E0uU",
        "outputId": "b6c4ce9a-398f-4b30-d583-3f00f0fc71c1"
      },
      "execution_count": null,
      "outputs": [
        {
          "output_type": "stream",
          "name": "stdout",
          "text": [
            " Anupam Kher has worked in maximum number of TV Shows or Movies in entire dataset.\n"
          ]
        }
      ]
    },
    {
      "cell_type": "markdown",
      "source": [
        "Total number of genres"
      ],
      "metadata": {
        "id": "QaELaIvUKTI4"
      }
    },
    {
      "cell_type": "code",
      "source": [
        "# getting list of categories from listed_in column\n",
        "genre_list = []\n",
        "genre_list.extend(get_category_list(df['listed_in']))\n",
        "\n",
        "# printing total number of categories in database\n",
        "print('Total number of categories/genres in database are:' ,len(genre_list))"
      ],
      "metadata": {
        "colab": {
          "base_uri": "https://localhost:8080/"
        },
        "id": "WS4lOQweKUZY",
        "outputId": "73c1a753-e862-4407-e2e8-4950cb3b5678"
      },
      "execution_count": null,
      "outputs": [
        {
          "output_type": "stream",
          "name": "stdout",
          "text": [
            "Total number of categories/genres in database are: 73\n"
          ]
        }
      ]
    },
    {
      "cell_type": "markdown",
      "source": [
        "Most frequently occuring genre overall."
      ],
      "metadata": {
        "id": "C13-Gi0SKeMg"
      }
    },
    {
      "cell_type": "code",
      "source": [
        "# finding which genre is most common across entire dataset\n",
        "most_freq_accouring_genre = maximum_occuring_category(df['listed_in'], genre_list)\n",
        "\n",
        "print(f'Most frequently occuring genre in dataset is {most_freq_accouring_genre}')"
      ],
      "metadata": {
        "colab": {
          "base_uri": "https://localhost:8080/"
        },
        "id": "xbBZ134gKfXY",
        "outputId": "83a85101-7102-4a1a-a000-2dfe4c615cd6"
      },
      "execution_count": null,
      "outputs": [
        {
          "output_type": "stream",
          "name": "stdout",
          "text": [
            "Most frequently occuring genre in dataset is  International Movies\n"
          ]
        }
      ]
    },
    {
      "cell_type": "code",
      "source": [
        "df.columns"
      ],
      "metadata": {
        "colab": {
          "base_uri": "https://localhost:8080/"
        },
        "id": "-nAsXMX3Km84",
        "outputId": "130a5b77-7235-4b64-83b0-cca156b02bc4"
      },
      "execution_count": null,
      "outputs": [
        {
          "output_type": "execute_result",
          "data": {
            "text/plain": [
              "Index(['show_id', 'type', 'title', 'director', 'cast', 'country', 'date_added',\n",
              "       'release_year', 'rating', 'duration', 'listed_in', 'description'],\n",
              "      dtype='object')"
            ]
          },
          "metadata": {},
          "execution_count": 27
        }
      ]
    },
    {
      "cell_type": "code",
      "source": [
        "# getting number of movies and tv shows in dataset\n",
        "df['type'].value_counts()"
      ],
      "metadata": {
        "colab": {
          "base_uri": "https://localhost:8080/"
        },
        "id": "QZ7Yzgk6KpW4",
        "outputId": "a8cb0465-00c2-4731-fab9-9dc2df9c8972"
      },
      "execution_count": null,
      "outputs": [
        {
          "output_type": "execute_result",
          "data": {
            "text/plain": [
              "Movie      5377\n",
              "TV Show    2410\n",
              "Name: type, dtype: int64"
            ]
          },
          "metadata": {},
          "execution_count": 28
        }
      ]
    },
    {
      "cell_type": "markdown",
      "source": [
        "### One can see that there are 5377 movies in dataset while there are 2410 TV shows overall."
      ],
      "metadata": {
        "id": "G3l1cCfwKswZ"
      }
    },
    {
      "cell_type": "code",
      "source": [
        "# getting number of content by each rating type\n",
        "rating_dict = dict(df['rating'].value_counts())\n",
        "\n",
        "# getting percentage of each type of content in data\n",
        "for i,j in rating_dict.items():\n",
        "  print(f'Percentage of {i} rating content in dataset is {round((j/df.shape[0])*100,2)}%')\n",
        "  print('-'*150)"
      ],
      "metadata": {
        "colab": {
          "base_uri": "https://localhost:8080/"
        },
        "id": "6BAvGjAfKu9A",
        "outputId": "4969fda0-9813-4bc6-9dd5-a5f9f55d5ad7"
      },
      "execution_count": null,
      "outputs": [
        {
          "output_type": "stream",
          "name": "stdout",
          "text": [
            "Percentage of TV-MA rating content in dataset is 36.77%\n",
            "------------------------------------------------------------------------------------------------------------------------------------------------------\n",
            "Percentage of TV-14 rating content in dataset is 24.8%\n",
            "------------------------------------------------------------------------------------------------------------------------------------------------------\n",
            "Percentage of TV-PG rating content in dataset is 10.35%\n",
            "------------------------------------------------------------------------------------------------------------------------------------------------------\n",
            "Percentage of R rating content in dataset is 8.54%\n",
            "------------------------------------------------------------------------------------------------------------------------------------------------------\n",
            "Percentage of PG-13 rating content in dataset is 4.96%\n",
            "------------------------------------------------------------------------------------------------------------------------------------------------------\n",
            "Percentage of TV-Y rating content in dataset is 3.6%\n",
            "------------------------------------------------------------------------------------------------------------------------------------------------------\n",
            "Percentage of TV-Y7 rating content in dataset is 3.48%\n",
            "------------------------------------------------------------------------------------------------------------------------------------------------------\n",
            "Percentage of PG rating content in dataset is 3.17%\n",
            "------------------------------------------------------------------------------------------------------------------------------------------------------\n",
            "Percentage of TV-G rating content in dataset is 2.49%\n",
            "------------------------------------------------------------------------------------------------------------------------------------------------------\n",
            "Percentage of NR rating content in dataset is 1.08%\n",
            "------------------------------------------------------------------------------------------------------------------------------------------------------\n",
            "Percentage of G rating content in dataset is 0.5%\n",
            "------------------------------------------------------------------------------------------------------------------------------------------------------\n",
            "Percentage of TV-Y7-FV rating content in dataset is 0.08%\n",
            "------------------------------------------------------------------------------------------------------------------------------------------------------\n",
            "Percentage of UR rating content in dataset is 0.06%\n",
            "------------------------------------------------------------------------------------------------------------------------------------------------------\n",
            "Percentage of NC-17 rating content in dataset is 0.04%\n",
            "------------------------------------------------------------------------------------------------------------------------------------------------------\n"
          ]
        }
      ]
    },
    {
      "cell_type": "markdown",
      "source": [
        "### Most of the content in the dataset have adult rating."
      ],
      "metadata": {
        "id": "lvFFgNd7K8oA"
      }
    },
    {
      "cell_type": "markdown",
      "source": [
        "### What all manipulations have you done and insights you found?"
      ],
      "metadata": {
        "id": "MSa1f5Uengrz"
      }
    },
    {
      "cell_type": "markdown",
      "source": [
        "*  I converted date_added column from string to datetime column for the ease of sorting.\n",
        "*  I found that all the content in the dataset were added from 2008-01-01 to 2021-01-16.\n",
        "*  A total of 35372 cast members have worked in all of the tv shows and movies in dataset.\n",
        "*  There were a total of 5398 directors in the dataset overall.\n",
        "*  Anupam Kher has worked in maximum number of TV Shows or Movies in entire dataset.\n",
        "*  Total number of categories/genres in database are 73.\n",
        "*  Most frequently occuring genre in dataset is  International Movies.\n",
        "*  There are 5377 movies in dataset while there are 2410 TV shows overall.\n",
        "*  Most of the content in the dataset have adult ratings."
      ],
      "metadata": {
        "id": "kNI_lu6ELC5Y"
      }
    },
    {
      "cell_type": "markdown",
      "source": [
        "## ***4. Data Vizualization, Storytelling & Experimenting with charts : Understand the relationships between variables***"
      ],
      "metadata": {
        "id": "GF8Ens_Soomf"
      }
    },
    {
      "cell_type": "markdown",
      "source": [
        "### Univariate Analysis"
      ],
      "metadata": {
        "id": "ov60GPHfLVnf"
      }
    },
    {
      "cell_type": "markdown",
      "source": [
        "#### Chart - 1 (**Pie Chart Showing Share of Movies and TV-Shows in data**)"
      ],
      "metadata": {
        "id": "0wOQAZs5pc--"
      }
    },
    {
      "cell_type": "code",
      "source": [
        "# Chart - 1 visualization code\n",
        "plt.figure(figsize=(10,8))\n",
        "# define Seaborn color palette to use\n",
        "palette_color = sns.color_palette('inferno')\n",
        "\n",
        "# plotting data on chart\n",
        "plt.pie(df['type'].value_counts(), labels=list(df['type'].value_counts().index), colors=palette_color, autopct='%.0f%%')\n",
        "\n",
        "plt.title('Pie chart showing percentage share of Movies and TV-Shows in Dataset', fontsize = 20)\n",
        "# displaying chart\n",
        "plt.show()"
      ],
      "metadata": {
        "id": "7v_ESjsspbW7",
        "colab": {
          "base_uri": "https://localhost:8080/",
          "height": 487
        },
        "outputId": "76c7529f-5f4a-44e6-d153-9dd3faefd666"
      },
      "execution_count": null,
      "outputs": [
        {
          "output_type": "display_data",
          "data": {
            "text/plain": [
              "<Figure size 720x576 with 1 Axes>"
            ],
            "image/png": "[encoded data removed]"
          },
          "metadata": {}
        }
      ]
    },
    {
      "cell_type": "markdown",
      "source": [
        "##### 1. Why did you pick the specific chart?"
      ],
      "metadata": {
        "id": "K5QZ13OEpz2H"
      }
    },
    {
      "cell_type": "markdown",
      "source": [
        "I picked pie chart because it is easier to show percentage share of Movies and TV-Shows on it. As, it is easier to represent how much share of pie does each one of them contains, here, this pie is our entire dataset."
      ],
      "metadata": {
        "id": "XESiWehPqBRc"
      }
    },
    {
      "cell_type": "markdown",
      "source": [
        "##### 2. What is/are the insight(s) found from the chart?"
      ],
      "metadata": {
        "id": "lQ7QKXXCp7Bj"
      }
    },
    {
      "cell_type": "markdown",
      "source": [
        "Movies contain maximum share of content in data with 69% of entire content being movies, and TV Shows comprises of 31% of all contents.Answer Here"
      ],
      "metadata": {
        "id": "C_j1G7yiqdRP"
      }
    },
    {
      "cell_type": "markdown",
      "source": [
        "##### 3. Will the gained insights help creating a positive business impact? \n",
        "Are there any insights that lead to negative growth? Justify with specific reason."
      ],
      "metadata": {
        "id": "448CDAPjqfQr"
      }
    },
    {
      "cell_type": "markdown",
      "source": [
        "Answer Here"
      ],
      "metadata": {
        "id": "3cspy4FjqxJW"
      }
    },
    {
      "cell_type": "markdown",
      "source": [
        "#### Chart - 2 (**Top 10 directors who have directed maximum number of movies**)"
      ],
      "metadata": {
        "id": "KSlN3yHqYklG"
      }
    },
    {
      "cell_type": "code",
      "source": [
        "# creating a saperate movie df for all movies in data_set\n",
        "movie_df = df[df['type']==\"Movie\"]\n",
        "\n",
        "# creating a df containg top 10 tv show directors\n",
        "top_10_director_df = movie_df['director'].value_counts().head(10).reset_index().rename(columns={'index':'director', 'director':'number_of_movies'})"
      ],
      "metadata": {
        "id": "R4YgtaqtYklH"
      },
      "execution_count": null,
      "outputs": []
    },
    {
      "cell_type": "code",
      "source": [
        "# Chart - 2 visualization code\n",
        "# setting style for seaborn plot\n",
        "sns.set_style('whitegrid')\n",
        "\n",
        "# setting figuresize\n",
        "plt.figure(figsize=(18,6))\n",
        "\n",
        "# creating barplot\n",
        "sns.barplot(data=top_10_director_df, x='director', y='number_of_movies')\n",
        "\n",
        "#setting title\n",
        "plt.title('Top 10 Directors who have directed maximum number of movies', fontsize=20)\n",
        "plt.xlabel('Directors', fontsize=12)\n",
        "plt.ylabel('Number of movies directed', fontsize=10)\n",
        "\n",
        "# setting xticklabels to 45\n",
        "plt.xticks(rotation=15)\n",
        "\n",
        "plt.show()"
      ],
      "metadata": {
        "colab": {
          "base_uri": "https://localhost:8080/",
          "height": 442
        },
        "id": "UN6tGlU7MKJD",
        "outputId": "7b859545-f8a9-4535-a3aa-6266486f7774"
      },
      "execution_count": null,
      "outputs": [
        {
          "output_type": "display_data",
          "data": {
            "text/plain": [
              "<Figure size 1296x432 with 1 Axes>"
            ],
            "image/png": "[encoded data removed]"
          },
          "metadata": {}
        }
      ]
    },
    {
      "cell_type": "markdown",
      "source": [
        "Some of the movies directed by Raul Campus and Jan Suter are:"
      ],
      "metadata": {
        "id": "QoNWLMiOMTuu"
      }
    },
    {
      "cell_type": "code",
      "source": [
        "for i in movie_df[movie_df['director']=='Raúl Campos, Jan Suter']['title']:\n",
        "  print(i)\n",
        "  print('-'*50)"
      ],
      "metadata": {
        "colab": {
          "base_uri": "https://localhost:8080/"
        },
        "id": "5CQGbx3QMcBQ",
        "outputId": "773c8c75-66c1-4542-aa7a-4987e62112c8"
      },
      "execution_count": null,
      "outputs": [
        {
          "output_type": "stream",
          "name": "stdout",
          "text": [
            "Alan Saldaña: Mi vida de pobre\n",
            "--------------------------------------------------\n",
            "Arango y Sanint: Ríase el show\n",
            "--------------------------------------------------\n",
            "Carlos Ballarta: Furia Ñera\n",
            "--------------------------------------------------\n",
            "Coco y Raulito: Carrusel de ternura\n",
            "--------------------------------------------------\n",
            "Daniel Sosa: Sosafado\n",
            "--------------------------------------------------\n",
            "Fernando Sanjiao: Hombre\n",
            "--------------------------------------------------\n",
            "Jani Dueñas: Grandes fracasos de ayer y hoy\n",
            "--------------------------------------------------\n",
            "Luciano Mellera: Infantiloide\n",
            "--------------------------------------------------\n",
            "Malena Pichot: Estupidez compleja\n",
            "--------------------------------------------------\n",
            "Mea Culpa\n",
            "--------------------------------------------------\n",
            "Natalia Valdebenito: El especial\n",
            "--------------------------------------------------\n",
            "Ricardo O'Farrill Abrazo Genial\n",
            "--------------------------------------------------\n",
            "Ricardo O'Farrill: Abrazo navideño\n",
            "--------------------------------------------------\n",
            "Ricardo Quevedo: Hay gente así\n",
            "--------------------------------------------------\n",
            "Sebastián Marcelo Wainraich\n",
            "--------------------------------------------------\n",
            "Sofía Niño de Rivera: Exposed\n",
            "--------------------------------------------------\n",
            "Sofía Niño de Rivera: Selección Natural\n",
            "--------------------------------------------------\n",
            "Todo lo que sería Lucas Lauriente\n",
            "--------------------------------------------------\n"
          ]
        }
      ]
    },
    {
      "cell_type": "markdown",
      "source": [
        "##### 1. Why did you pick the specific chart?"
      ],
      "metadata": {
        "id": "t6dVpIINYklI"
      }
    },
    {
      "cell_type": "markdown",
      "source": [
        "I picked this chart to show top 10 directors who have directed maximum number of movies out of all movies in dataset."
      ],
      "metadata": {
        "id": "5aaW0BYyYklI"
      }
    },
    {
      "cell_type": "markdown",
      "source": [
        "##### 2. What is/are the insight(s) found from the chart?"
      ],
      "metadata": {
        "id": "ijmpgYnKYklI"
      }
    },
    {
      "cell_type": "markdown",
      "source": [
        "*  Raul Campus and Jan Suter have together directed maximum number of movies than any other director in the entire dataset.\n",
        "\n",
        "* He was followed by Marcus Raboy, Jay Karas, Cathy Garcia-Molina and others."
      ],
      "metadata": {
        "id": "PSx9atu2YklI"
      }
    },
    {
      "cell_type": "markdown",
      "source": [
        "##### 3. Will the gained insights help creating a positive business impact? \n",
        "Are there any insights that lead to negative growth? Justify with specific reason."
      ],
      "metadata": {
        "id": "-JiQyfWJYklI"
      }
    },
    {
      "cell_type": "markdown",
      "source": [
        "Answer Here"
      ],
      "metadata": {
        "id": "BcBbebzrYklV"
      }
    },
    {
      "cell_type": "markdown",
      "source": [
        "#### Chart - 3 (**Top 10 directors who have directed maximum number of TV Shows**)"
      ],
      "metadata": {
        "id": "EM7whBJCYoAo"
      }
    },
    {
      "cell_type": "code",
      "source": [
        "# creating a saperate movie df for all movies in data_set\n",
        "tv_show_df = df[df['type']==\"TV Show\"]\n",
        "\n",
        "# creating a df containg top 10 tv show directors\n",
        "top_10_tv_director_df = tv_show_df['director'].value_counts().head(10).reset_index().rename(columns={'index':'director', 'director':'number_of_tv_shows'})"
      ],
      "metadata": {
        "id": "7lkUqewTMyTN"
      },
      "execution_count": null,
      "outputs": []
    },
    {
      "cell_type": "code",
      "source": [
        "# Chart - 3 visualization code\n",
        "# creating barplot\n",
        "sns.barplot(data=top_10_tv_director_df, x='director', y='number_of_tv_shows')\n",
        "\n",
        "#setting title\n",
        "plt.title('Top 10 Directors who have directed maximum number of TV Shows', fontsize=20)\n",
        "plt.xlabel('Directors', fontsize=12)\n",
        "plt.ylabel('Number of TV Show directed', fontsize=10)\n",
        "\n",
        "# setting xticklabels to 45\n",
        "plt.xticks(rotation=15)\n",
        "\n",
        "plt.show()"
      ],
      "metadata": {
        "id": "t6GMdE67YoAp",
        "colab": {
          "base_uri": "https://localhost:8080/",
          "height": 392
        },
        "outputId": "62b27a11-8c83-4175-f96b-1fe9ba3bd5e7"
      },
      "execution_count": null,
      "outputs": [
        {
          "output_type": "display_data",
          "data": {
            "text/plain": [
              "<Figure size 1080x360 with 1 Axes>"
            ],
            "image/png": "[encoded data removed]"
          },
          "metadata": {}
        }
      ]
    },
    {
      "cell_type": "markdown",
      "source": [
        "Some of the movies directed by Alastair Fothergill"
      ],
      "metadata": {
        "id": "HA758q5uNtCe"
      }
    },
    {
      "cell_type": "code",
      "source": [
        "for k in tv_show_df[tv_show_df['director']=='Alastair Fothergill']['title']:\n",
        "  print(k)\n",
        "  print('-'*50)"
      ],
      "metadata": {
        "colab": {
          "base_uri": "https://localhost:8080/"
        },
        "id": "GpLXfvKVN1t-",
        "outputId": "d4cbccab-6782-49e0-a6cd-b371a0bf8685"
      },
      "execution_count": null,
      "outputs": [
        {
          "output_type": "stream",
          "name": "stdout",
          "text": [
            "Frozen Planet\n",
            "--------------------------------------------------\n",
            "Planet Earth: The Complete Collection\n",
            "--------------------------------------------------\n",
            "The Blue Planet: A Natural History of the Oceans\n",
            "--------------------------------------------------\n"
          ]
        }
      ]
    },
    {
      "cell_type": "markdown",
      "source": [
        "##### 1. Why did you pick the specific chart?"
      ],
      "metadata": {
        "id": "fge-S5ZAYoAp"
      }
    },
    {
      "cell_type": "markdown",
      "source": [
        "I picked this chart to show list of directors who have directed maxmimum number of TV Shows."
      ],
      "metadata": {
        "id": "5dBItgRVYoAp"
      }
    },
    {
      "cell_type": "markdown",
      "source": [
        "##### 2. What is/are the insight(s) found from the chart?"
      ],
      "metadata": {
        "id": "85gYPyotYoAp"
      }
    },
    {
      "cell_type": "markdown",
      "source": [
        "Alastair Fothergill has directed maximum number of TV Shows in the dataset overall. He is followed by Ken Burns, Shin-Won-ho, Iginio Straffi and more."
      ],
      "metadata": {
        "id": "4jstXR6OYoAp"
      }
    },
    {
      "cell_type": "markdown",
      "source": [
        "##### 3. Will the gained insights help creating a positive business impact? \n",
        "Are there any insights that lead to negative growth? Justify with specific reason."
      ],
      "metadata": {
        "id": "RoGjAbkUYoAp"
      }
    },
    {
      "cell_type": "markdown",
      "source": [
        "Answer Here"
      ],
      "metadata": {
        "id": "zfJ8IqMcYoAp"
      }
    },
    {
      "cell_type": "markdown",
      "source": [
        "#### Chart - 4  (**Actors who have acted in maximum number of movies**)"
      ],
      "metadata": {
        "id": "4Of9eVA-YrdM"
      }
    },
    {
      "cell_type": "markdown",
      "source": [
        "Following is a function to get top 10 maximum occuring category or name from a column."
      ],
      "metadata": {
        "id": "cWuOEQHgOecb"
      }
    },
    {
      "cell_type": "code",
      "source": [
        "# creating a functions to return most frequently occuring categories or names in a column\n",
        "def top_10_maximum_occuring(column):\n",
        "    # creating an empty dict to store frequency if each category in dataset\n",
        "    cat_freq_dict = Counter()\n",
        "\n",
        "    # creating a list of all categories in column with function get_category_list\n",
        "    list_ = get_category_list(column)\n",
        "\n",
        "    #iterating through each column to find list of categories from each row\n",
        "    for i in column:\n",
        "        # creating a local list to store category list splitted by \",\"\n",
        "        m= []\n",
        "        if \",\" in i:\n",
        "            m.extend(i.split(\",\"))\n",
        "        else:\n",
        "            m.append(i)\n",
        "\n",
        "        #iterating through cat_list to check if category exists in particular row \n",
        "        for j in range(len(list_)):\n",
        "            if list_[j] in m:\n",
        "                cat_freq_dict[list_[j]] += 1\n",
        "            else:\n",
        "                pass\n",
        "    if not cat_freq_dict:\n",
        "        return None\n",
        "    return cat_freq_dict.most_common(10)"
      ],
      "metadata": {
        "id": "hHRUfTaMOl1L"
      },
      "execution_count": null,
      "outputs": []
    },
    {
      "cell_type": "markdown",
      "source": [
        "Getting dictionary of actors who have acted in maximum number of movies, we will use previously created movie_df for this purpose."
      ],
      "metadata": {
        "id": "J_KqP8LOOvvE"
      }
    },
    {
      "cell_type": "code",
      "source": [
        "top_10_maximum_occuring_dict = top_10_maximum_occuring(movie_df[~movie_df['cast'].isna()]['cast'])"
      ],
      "metadata": {
        "id": "r9upu5f0OoHc"
      },
      "execution_count": null,
      "outputs": []
    },
    {
      "cell_type": "code",
      "source": [
        "# creating df out of above\n",
        "top_10_maximum_occuring_movie_actor_df = pd.DataFrame(top_10_maximum_occuring_dict)\n",
        "\n",
        "#renaming columns\n",
        "top_10_maximum_occuring_movie_actor_df.rename(columns={0:'actors', 1:'number_of_movies'}, inplace=True)"
      ],
      "metadata": {
        "id": "plCJ8mstO5zs"
      },
      "execution_count": null,
      "outputs": []
    },
    {
      "cell_type": "code",
      "source": [
        "# Chart - 4 visualization code\n",
        "# creating barplot\n",
        "sns.barplot(data=top_10_maximum_occuring_movie_actor_df, x='actors', y='number_of_movies')\n",
        "\n",
        "#setting title\n",
        "plt.title('Top 10 Actors who have acted in maximum number of Movies', fontsize=20)\n",
        "plt.xlabel('Actors', fontsize=12)\n",
        "plt.ylabel('Number of movies acted in', fontsize=10)\n",
        "\n",
        "# setting xticklabels to 45\n",
        "plt.xticks(rotation=15)\n",
        "\n",
        "plt.show()"
      ],
      "metadata": {
        "id": "irlUoxc8YrdO",
        "colab": {
          "base_uri": "https://localhost:8080/",
          "height": 382
        },
        "outputId": "db144b48-1dfe-4642-98b1-719c45790dc8"
      },
      "execution_count": null,
      "outputs": [
        {
          "output_type": "display_data",
          "data": {
            "text/plain": [
              "<Figure size 1080x360 with 1 Axes>"
            ],
            "image/png": "[encoded data removed]"
          },
          "metadata": {}
        }
      ]
    },
    {
      "cell_type": "markdown",
      "source": [
        "##### 1. Why did you pick the specific chart?"
      ],
      "metadata": {
        "id": "iky9q4vBYrdO"
      }
    },
    {
      "cell_type": "markdown",
      "source": [
        "I picked this chart to show top actors who have acted in maximum number of movies in dataset."
      ],
      "metadata": {
        "id": "aJRCwT6DYrdO"
      }
    },
    {
      "cell_type": "markdown",
      "source": [
        "##### 2. What is/are the insight(s) found from the chart?"
      ],
      "metadata": {
        "id": "F6T5p64dYrdO"
      }
    },
    {
      "cell_type": "markdown",
      "source": [
        "*  Anupam Kher has acted in maximum number of movies, i.e, 38, followed by Om Puri, Shah Rukh Khan, Boman Irani and others.\n",
        "*  It is pretty clear that Indian actors have dominated this list with 9 out of 10 actors in top 10 most frequently occuring actors are Indian, with Kareena Kapoor being the only female to have place in this chart."
      ],
      "metadata": {
        "id": "Xx8WAJvtYrdO"
      }
    },
    {
      "cell_type": "markdown",
      "source": [
        "##### 3. Will the gained insights help creating a positive business impact? \n",
        "Are there any insights that lead to negative growth? Justify with specific reason."
      ],
      "metadata": {
        "id": "y-Ehk30pYrdP"
      }
    },
    {
      "cell_type": "markdown",
      "source": [
        "Yes, this might indicate which actors people want to view most and also what actors are in trend. This might help Producers, Recommendation Engineers and Movie enthusiasts to understand and select type to movies to watch, recommend and invest in."
      ],
      "metadata": {
        "id": "jLNxxz7MYrdP"
      }
    },
    {
      "cell_type": "markdown",
      "source": [
        "#### Chart - 5 (**Actors who have acted in maximum number of TV Shows**)"
      ],
      "metadata": {
        "id": "bamQiAODYuh1"
      }
    },
    {
      "cell_type": "markdown",
      "source": [
        "Getting dictionary of actors who have acted in maximum number of movies, we will use previously created tv_show_df for this purpose."
      ],
      "metadata": {
        "id": "ziPxGJyBSI7T"
      }
    },
    {
      "cell_type": "code",
      "source": [
        "top_10_maximum_occuring_tv_actor_dict = top_10_maximum_occuring(tv_show_df[~tv_show_df['cast'].isna()]['cast'])"
      ],
      "metadata": {
        "id": "EvfAjaNWSNbj"
      },
      "execution_count": null,
      "outputs": []
    },
    {
      "cell_type": "code",
      "source": [
        "# creating df out of above\n",
        "top_10_maximum_occuring_tv_actor_df = pd.DataFrame(top_10_maximum_occuring_tv_actor_dict)\n",
        "\n",
        "#renaming columns\n",
        "top_10_maximum_occuring_tv_actor_df.rename(columns={0:'actors', 1:'number_of_tv_shows'}, inplace=True)"
      ],
      "metadata": {
        "id": "JD2oG45DSdf4"
      },
      "execution_count": null,
      "outputs": []
    },
    {
      "cell_type": "code",
      "source": [
        "# Chart - 5 visualization code\n",
        "# Chart - 5 visualization code\n",
        "# creating barplot\n",
        "sns.barplot(data=top_10_maximum_occuring_tv_actor_df, x='actors', y='number_of_tv_shows')\n",
        "\n",
        "#setting title\n",
        "plt.title('Top 10 Actors who have acted in maximum number of TV Shows', fontsize=20)\n",
        "plt.xlabel('Actors', fontsize=12)\n",
        "plt.ylabel('Number of TV Shows acted in', fontsize=10)\n",
        "\n",
        "# setting xticklabels to 45\n",
        "plt.xticks(rotation=15)\n",
        "\n",
        "plt.show()"
      ],
      "metadata": {
        "id": "TIJwrbroYuh3",
        "colab": {
          "base_uri": "https://localhost:8080/",
          "height": 383
        },
        "outputId": "c5d74607-f176-4361-b6f9-cf0b455cb063"
      },
      "execution_count": null,
      "outputs": [
        {
          "output_type": "display_data",
          "data": {
            "text/plain": [
              "<Figure size 1080x360 with 1 Axes>"
            ],
            "image/png": "[encoded data removed]"
          },
          "metadata": {}
        }
      ]
    },
    {
      "cell_type": "markdown",
      "source": [
        "##### 1. Why did you pick the specific chart?"
      ],
      "metadata": {
        "id": "QHF8YVU7Yuh3"
      }
    },
    {
      "cell_type": "markdown",
      "source": [
        "I picked this chart to show top 10 casts who have worked in maximum number TV Shows in dataset."
      ],
      "metadata": {
        "id": "dcxuIMRPYuh3"
      }
    },
    {
      "cell_type": "markdown",
      "source": [
        "##### 2. What is/are the insight(s) found from the chart?"
      ],
      "metadata": {
        "id": "GwzvFGzlYuh3"
      }
    },
    {
      "cell_type": "markdown",
      "source": [
        "\n",
        "*   Like top 10 most frequently occuring actors list had Indian dominance, top 10 casts who have most number of TV Shows to them have Japanese Television Anime dominance.\n",
        "*   9 out of 10 cast names in this list are voice artists from Japanese Anime industry.\n"
      ],
      "metadata": {
        "id": "uyqkiB8YYuh3"
      }
    },
    {
      "cell_type": "markdown",
      "source": [
        "##### 3. Will the gained insights help creating a positive business impact? \n",
        "Are there any insights that lead to negative growth? Justify with specific reason."
      ],
      "metadata": {
        "id": "qYpmQ266Yuh3"
      }
    },
    {
      "cell_type": "markdown",
      "source": [
        "This insight can help search engines recommend anime lovers relevant content, also it can help anime creaters understand what voice artists are in demand.\n",
        "\n",
        "It can also help analysts and adverstisers understand where to focus on based upon what is being watched most on Netflix."
      ],
      "metadata": {
        "id": "_WtzZ_hCYuh4"
      }
    },
    {
      "cell_type": "markdown",
      "source": [
        "#### Chart - 6 ( **Top 10 Countries from Where Maximum Movies and TV Shows are produced**)"
      ],
      "metadata": {
        "id": "OH-pJp9IphqM"
      }
    },
    {
      "cell_type": "code",
      "source": [
        "# checking values in Country column\n",
        "df['country']"
      ],
      "metadata": {
        "colab": {
          "base_uri": "https://localhost:8080/"
        },
        "id": "KleB57znTOK2",
        "outputId": "a9115162-e62c-4e5d-f950-804ae463603d"
      },
      "execution_count": null,
      "outputs": [
        {
          "output_type": "execute_result",
          "data": {
            "text/plain": [
              "0                                                  Brazil\n",
              "1                                                  Mexico\n",
              "2                                               Singapore\n",
              "3                                           United States\n",
              "4                                           United States\n",
              "                              ...                        \n",
              "7782    Sweden, Czech Republic, United Kingdom, Denmar...\n",
              "7783                                                India\n",
              "7784                                                  NaN\n",
              "7785                                            Australia\n",
              "7786                United Kingdom, Canada, United States\n",
              "Name: country, Length: 7787, dtype: object"
            ]
          },
          "metadata": {},
          "execution_count": 48
        }
      ]
    },
    {
      "cell_type": "markdown",
      "source": [
        "Since a lot of values in country column have more than 1 country, within them, I will set first country name as primary country."
      ],
      "metadata": {
        "id": "-IIrewPpTgOh"
      }
    },
    {
      "cell_type": "code",
      "source": [
        "# creating a sample country df to filter out null values in country column\n",
        "country_df = df[~df['country'].isna()]\n",
        "\n",
        "# setting first country name as country in country_df using lambda function\n",
        "country_df['country'] = country_df['country'].apply(lambda x: x[:x.index(',')] if ',' in x else x)"
      ],
      "metadata": {
        "colab": {
          "base_uri": "https://localhost:8080/"
        },
        "id": "p0GqkvrNTmZi",
        "outputId": "61f62eff-9633-4467-b119-81c0deb5b0bf"
      },
      "execution_count": null,
      "outputs": [
        {
          "output_type": "stream",
          "name": "stderr",
          "text": [
            "<ipython-input-49-425eaec57eac>:5: SettingWithCopyWarning: \n",
            "A value is trying to be set on a copy of a slice from a DataFrame.\n",
            "Try using .loc[row_indexer,col_indexer] = value instead\n",
            "\n",
            "See the caveats in the documentation: https://pandas.pydata.org/pandas-docs/stable/user_guide/indexing.html#returning-a-view-versus-a-copy\n",
            "  country_df['country'] = country_df['country'].apply(lambda x: x[:x.index(',')] if ',' in x else x)\n"
          ]
        }
      ]
    },
    {
      "cell_type": "code",
      "source": [
        "# getting country wise number of movies and tv shows\n",
        "country_wise = country_df.groupby('country')['type'].value_counts().unstack().reset_index().replace(np.nan,0).rename(index={'type':'index'})\n",
        "\n",
        "country_wise['Movie'] = country_wise['Movie'].apply(lambda x: int(x))\n",
        "country_wise['TV Show'] = country_wise['TV Show'].apply(lambda x: int(x))\n",
        "\n",
        "country_wise"
      ],
      "metadata": {
        "colab": {
          "base_uri": "https://localhost:8080/",
          "height": 423
        },
        "id": "La5hBI4tTq2g",
        "outputId": "f45e95a5-9739-4822-e071-cb0e2ab4b165"
      },
      "execution_count": null,
      "outputs": [
        {
          "output_type": "execute_result",
          "data": {
            "text/plain": [
              "type       country  Movie  TV Show\n",
              "0        Argentina     50       18\n",
              "1        Australia     56       52\n",
              "2          Austria      7        1\n",
              "3       Bangladesh      2        0\n",
              "4          Belarus      0        1\n",
              "..             ...    ...      ...\n",
              "76         Uruguay      8        1\n",
              "77       Venezuela      2        0\n",
              "78         Vietnam      5        0\n",
              "79    West Germany      1        0\n",
              "80        Zimbabwe      1        0\n",
              "\n",
              "[81 rows x 3 columns]"
            ],
            "text/html": [
              "\n",
              "  <div id=\"df-f4826634-a205-4123-a652-52733c1fd63d\">\n",
              "    <div class=\"colab-df-container\">\n",
              "      <div>\n",
              "<style scoped>\n",
              "    .dataframe tbody tr th:only-of-type {\n",
              "        vertical-align: middle;\n",
              "    }\n",
              "\n",
              "    .dataframe tbody tr th {\n",
              "        vertical-align: top;\n",
              "    }\n",
              "\n",
              "    .dataframe thead th {\n",
              "        text-align: right;\n",
              "    }\n",
              "</style>\n",
              "<table border=\"1\" class=\"dataframe\">\n",
              "  <thead>\n",
              "    <tr style=\"text-align: right;\">\n",
              "      <th>type</th>\n",
              "      <th>country</th>\n",
              "      <th>Movie</th>\n",
              "      <th>TV Show</th>\n",
              "    </tr>\n",
              "  </thead>\n",
              "  <tbody>\n",
              "    <tr>\n",
              "      <th>0</th>\n",
              "      <td>Argentina</td>\n",
              "      <td>50</td>\n",
              "      <td>18</td>\n",
              "    </tr>\n",
              "    <tr>\n",
              "      <th>1</th>\n",
              "      <td>Australia</td>\n",
              "      <td>56</td>\n",
              "      <td>52</td>\n",
              "    </tr>\n",
              "    <tr>\n",
              "      <th>2</th>\n",
              "      <td>Austria</td>\n",
              "      <td>7</td>\n",
              "      <td>1</td>\n",
              "    </tr>\n",
              "    <tr>\n",
              "      <th>3</th>\n",
              "      <td>Bangladesh</td>\n",
              "      <td>2</td>\n",
              "      <td>0</td>\n",
              "    </tr>\n",
              "    <tr>\n",
              "      <th>4</th>\n",
              "      <td>Belarus</td>\n",
              "      <td>0</td>\n",
              "      <td>1</td>\n",
              "    </tr>\n",
              "    <tr>\n",
              "      <th>...</th>\n",
              "      <td>...</td>\n",
              "      <td>...</td>\n",
              "      <td>...</td>\n",
              "    </tr>\n",
              "    <tr>\n",
              "      <th>76</th>\n",
              "      <td>Uruguay</td>\n",
              "      <td>8</td>\n",
              "      <td>1</td>\n",
              "    </tr>\n",
              "    <tr>\n",
              "      <th>77</th>\n",
              "      <td>Venezuela</td>\n",
              "      <td>2</td>\n",
              "      <td>0</td>\n",
              "    </tr>\n",
              "    <tr>\n",
              "      <th>78</th>\n",
              "      <td>Vietnam</td>\n",
              "      <td>5</td>\n",
              "      <td>0</td>\n",
              "    </tr>\n",
              "    <tr>\n",
              "      <th>79</th>\n",
              "      <td>West Germany</td>\n",
              "      <td>1</td>\n",
              "      <td>0</td>\n",
              "    </tr>\n",
              "    <tr>\n",
              "      <th>80</th>\n",
              "      <td>Zimbabwe</td>\n",
              "      <td>1</td>\n",
              "      <td>0</td>\n",
              "    </tr>\n",
              "  </tbody>\n",
              "</table>\n",
              "<p>81 rows × 3 columns</p>\n",
              "</div>\n",
              "      <button class=\"colab-df-convert\" onclick=\"convertToInteractive('df-f4826634-a205-4123-a652-52733c1fd63d')\"\n",
              "              title=\"Convert this dataframe to an interactive table.\"\n",
              "              style=\"display:none;\">\n",
              "        \n",
              "  <svg xmlns=\"http://www.w3.org/2000/svg\" height=\"24px\"viewBox=\"0 0 24 24\"\n",
              "       width=\"24px\">\n",
              "    <path d=\"M0 0h24v24H0V0z\" fill=\"none\"/>\n",
              "    <path d=\"M18.56 5.44l.94 2.06.94-2.06 2.06-.94-2.06-.94-.94-2.06-.94 2.06-2.06.94zm-11 1L8.5 8.5l.94-2.06 2.06-.94-2.06-.94L8.5 2.5l-.94 2.06-2.06.94zm10 10l.94 2.06.94-2.06 2.06-.94-2.06-.94-.94-2.06-.94 2.06-2.06.94z\"/><path d=\"M17.41 7.96l-1.37-1.37c-.4-.4-.92-.59-1.43-.59-.52 0-1.04.2-1.43.59L10.3 9.45l-7.72 7.72c-.78.78-.78 2.05 0 2.83L4 21.41c.39.39.9.59 1.41.59.51 0 1.02-.2 1.41-.59l7.78-7.78 2.81-2.81c.8-.78.8-2.07 0-2.86zM5.41 20L4 18.59l7.72-7.72 1.47 1.35L5.41 20z\"/>\n",
              "  </svg>\n",
              "      </button>\n",
              "      \n",
              "  <style>\n",
              "    .colab-df-container {\n",
              "      display:flex;\n",
              "      flex-wrap:wrap;\n",
              "      gap: 12px;\n",
              "    }\n",
              "\n",
              "    .colab-df-convert {\n",
              "      background-color: #E8F0FE;\n",
              "      border: none;\n",
              "      border-radius: 50%;\n",
              "      cursor: pointer;\n",
              "      display: none;\n",
              "      fill: #1967D2;\n",
              "      height: 32px;\n",
              "      padding: 0 0 0 0;\n",
              "      width: 32px;\n",
              "    }\n",
              "\n",
              "    .colab-df-convert:hover {\n",
              "      background-color: #E2EBFA;\n",
              "      box-shadow: 0px 1px 2px rgba(60, 64, 67, 0.3), 0px 1px 3px 1px rgba(60, 64, 67, 0.15);\n",
              "      fill: #174EA6;\n",
              "    }\n",
              "\n",
              "    [theme=dark] .colab-df-convert {\n",
              "      background-color: #3B4455;\n",
              "      fill: #D2E3FC;\n",
              "    }\n",
              "\n",
              "    [theme=dark] .colab-df-convert:hover {\n",
              "      background-color: #434B5C;\n",
              "      box-shadow: 0px 1px 3px 1px rgba(0, 0, 0, 0.15);\n",
              "      filter: drop-shadow(0px 1px 2px rgba(0, 0, 0, 0.3));\n",
              "      fill: #FFFFFF;\n",
              "    }\n",
              "  </style>\n",
              "\n",
              "      <script>\n",
              "        const buttonEl =\n",
              "          document.querySelector('#df-f4826634-a205-4123-a652-52733c1fd63d button.colab-df-convert');\n",
              "        buttonEl.style.display =\n",
              "          google.colab.kernel.accessAllowed ? 'block' : 'none';\n",
              "\n",
              "        async function convertToInteractive(key) {\n",
              "          const element = document.querySelector('#df-f4826634-a205-4123-a652-52733c1fd63d');\n",
              "          const dataTable =\n",
              "            await google.colab.kernel.invokeFunction('convertToInteractive',\n",
              "                                                     [key], {});\n",
              "          if (!dataTable) return;\n",
              "\n",
              "          const docLinkHtml = 'Like what you see? Visit the ' +\n",
              "            '<a target=\"_blank\" href=https://colab.research.google.com/notebooks/data_table.ipynb>data table notebook</a>'\n",
              "            + ' to learn more about interactive tables.';\n",
              "          element.innerHTML = '';\n",
              "          dataTable['output_type'] = 'display_data';\n",
              "          await google.colab.output.renderOutput(dataTable, element);\n",
              "          const docLink = document.createElement('div');\n",
              "          docLink.innerHTML = docLinkHtml;\n",
              "          element.appendChild(docLink);\n",
              "        }\n",
              "      </script>\n",
              "    </div>\n",
              "  </div>\n",
              "  "
            ]
          },
          "metadata": {},
          "execution_count": 50
        }
      ]
    },
    {
      "cell_type": "code",
      "source": [
        "# Chart - 6 visualization code\n",
        "fig, axs = plt.subplots(1, 2, figsize=(15, 5))\n",
        "fig.tight_layout()\n",
        "plt.subplots_adjust(wspace=0.25)\n",
        "# code to show top 10 countries with maximum number of movies\n",
        "maximum_number_of_movie_countries = country_wise[['country','Movie']].sort_values(by='Movie', ascending=False).head(10)\n",
        "\n",
        "# creating a barplot showing top 10 countries producing maximum number of movies\n",
        "sns.barplot(data=maximum_number_of_movie_countries, x='country', y='Movie', ax=axs[0])\n",
        "axs[0].set_title('Top 10 countries producing maximum number of movies', fontsize=10)\n",
        "axs[0].set_xlabel('Countries')\n",
        "axs[0].set_ylabel('Number of Movies Produced')\n",
        "axs[0].set_xticklabels(axs[0].get_xticklabels(), rotation=90)\n",
        "\n",
        "# code to show top 10 countries with maximum number of tv shows \n",
        "maximum_number_of_tv_show_countries = country_wise[['country','TV Show']].sort_values(by='TV Show', ascending=False).head(10)\n",
        "\n",
        "# creating a barplot showing top 10 countries producing maximum number of TV Shows\n",
        "sns.barplot(data=maximum_number_of_tv_show_countries, x='country', y='TV Show', ax=axs[1])\n",
        "axs[1].set_title('Top 10 countries producing maximum number of TV Shows', fontsize=10)\n",
        "axs[1].set_xlabel('Countries')\n",
        "axs[1].set_ylabel('Number of TV Shows Produced')\n",
        "axs[1].set_xticklabels(axs[1].get_xticklabels(), rotation=90)\n",
        "\n",
        "plt.show()"
      ],
      "metadata": {
        "colab": {
          "base_uri": "https://localhost:8080/",
          "height": 464
        },
        "id": "H-QMMmP1TziI",
        "outputId": "0b49e808-f590-45a7-df33-e95bda6687bd"
      },
      "execution_count": null,
      "outputs": [
        {
          "output_type": "display_data",
          "data": {
            "text/plain": [
              "<Figure size 1080x360 with 2 Axes>"
            ],
            "image/png": "[encoded data removed]"
          },
          "metadata": {}
        }
      ]
    },
    {
      "cell_type": "markdown",
      "source": [
        "##### 1. Why did you pick the specific chart?"
      ],
      "metadata": {
        "id": "bbFf2-_FphqN"
      }
    },
    {
      "cell_type": "markdown",
      "source": [
        "I picked this chart to show top 10 movie producing countries as well as top 10 TV Show producing countries in the world."
      ],
      "metadata": {
        "id": "loh7H2nzphqN"
      }
    },
    {
      "cell_type": "markdown",
      "source": [
        "##### 2. What is/are the insight(s) found from the chart?"
      ],
      "metadata": {
        "id": "_ouA3fa0phqN"
      }
    },
    {
      "cell_type": "markdown",
      "source": [
        "*   In Movie Production as well as TV Show production, USA is on Top list out of all countries in dataset, with more than 2000 movies and around 800 TV Shows to its name.\n",
        "*   In movie production USA is followed by India, United Kingdom, Canada, France, Spain, Egypt, Mexico, Turkey and Japan.\n",
        "*   Like USA, UK have prominent place in both lists as well, while it is on 3rd Position in movie production with around 300 movies, it has also produced around 300 TV Shows of all movies in our dataset.\n",
        "*   Other prominent countries in both the lists are India, Japan, Canada, Sapin and France.\n",
        "*   One can see that other than Japan no other east asian countries are in Top 10 movie list, but when it comes to TV Shows; Japan, South Korea and Taiwan are all there. Makes sense since Korean Dramas are getting popular all over the world."
      ],
      "metadata": {
        "id": "VECbqPI7phqN"
      }
    },
    {
      "cell_type": "markdown",
      "source": [
        "##### 3. Will the gained insights help creating a positive business impact? \n",
        "Are there any insights that lead to negative growth? Justify with specific reason."
      ],
      "metadata": {
        "id": "Seke61FWphqN"
      }
    },
    {
      "cell_type": "markdown",
      "source": [
        "Answer Here"
      ],
      "metadata": {
        "id": "DW4_bGpfphqN"
      }
    },
    {
      "cell_type": "markdown",
      "source": [
        "#### Chart - 7 ( **Number of TV shows and movies added over time** )"
      ],
      "metadata": {
        "id": "PIIx-8_IphqN"
      }
    },
    {
      "cell_type": "code",
      "source": [
        "# creating a df filtering nan values and sorting it by date added\n",
        "date_added_df = df[~df.isna()].sort_values(by='date_added')"
      ],
      "metadata": {
        "id": "82NYqPv2UZ5p"
      },
      "execution_count": null,
      "outputs": []
    },
    {
      "cell_type": "code",
      "source": [
        "# extracting required columns only\n",
        "date_added_df = date_added_df.groupby(['date_added', 'type'], as_index=False)['title'].count()"
      ],
      "metadata": {
        "id": "ZlEvrWTVUdeo"
      },
      "execution_count": null,
      "outputs": []
    },
    {
      "cell_type": "code",
      "source": [
        "# Chart - 7 visualization code\n",
        "sns.set_style('dark')\n",
        "plt.figure(figsize=(15,5))\n",
        "# create a line chart showing the number of TV shows and movies added over time\n",
        "sns.lineplot(data=date_added_df, x='date_added', y='title', hue='type')\n",
        "plt.title('Number of TV shows and movies added over time')\n",
        "plt.xlabel('Date Added')\n",
        "plt.ylabel('Number of TV shows and movies')\n",
        "plt.show()"
      ],
      "metadata": {
        "id": "lqAIGUfyphqO",
        "colab": {
          "base_uri": "https://localhost:8080/",
          "height": 350
        },
        "outputId": "0ba58124-7108-4e18-d1a1-d37d7b0322b4"
      },
      "execution_count": null,
      "outputs": [
        {
          "output_type": "display_data",
          "data": {
            "text/plain": [
              "<Figure size 1080x360 with 1 Axes>"
            ],
            "image/png": "[encoded data removed]"
          },
          "metadata": {}
        }
      ]
    },
    {
      "cell_type": "markdown",
      "source": [
        "##### 1. Why did you pick the specific chart?"
      ],
      "metadata": {
        "id": "t27r6nlMphqO"
      }
    },
    {
      "cell_type": "markdown",
      "source": [
        "I picked this chart to show distribution in date_added column. As to when maximum number of movies and TV Shows were added since the starting of dataset."
      ],
      "metadata": {
        "id": "iv6ro40sphqO"
      }
    },
    {
      "cell_type": "markdown",
      "source": [
        "##### 2. What is/are the insight(s) found from the chart?"
      ],
      "metadata": {
        "id": "r2jJGEOYphqO"
      }
    },
    {
      "cell_type": "markdown",
      "source": [
        "\n",
        "*   It is kind of obvious that until 2016, not much movies and TV Shows were being added to Netflix database. It seems like since that huge spike in 2016, when a lot of TV Shows were added, trend picked up.\n",
        "*   Most of the TV Shows and movies were added between 2018 and 2020. \n",
        "*   More number of Movies tha TV Shows were added, explains why there are a lot more movies than TV Shows in data. However, since 2017 and ahead a lot of TV Shows were added too.\n",
        "*   Simple reason for more movies than TV Shows can be the fact that a single TV Show runs for a lot greater time than a movie.\n"
      ],
      "metadata": {
        "id": "Po6ZPi4hphqO"
      }
    },
    {
      "cell_type": "markdown",
      "source": [
        "##### 3. Will the gained insights help creating a positive business impact? \n",
        "Are there any insights that lead to negative growth? Justify with specific reason."
      ],
      "metadata": {
        "id": "b0JNsNcRphqO"
      }
    },
    {
      "cell_type": "markdown",
      "source": [
        "Answer Here"
      ],
      "metadata": {
        "id": "xvSq8iUTphqO"
      }
    },
    {
      "cell_type": "markdown",
      "source": [
        "#### Chart - 8 ( **Release year distribution for tv shows and movies** )"
      ],
      "metadata": {
        "id": "BZR9WyysphqO"
      }
    },
    {
      "cell_type": "code",
      "source": [
        "# filtering nan out of data\n",
        "release_year_df = df[~df.isna()].sort_values(by='release_year')\n",
        "\n",
        "# extracting required columns only\n",
        "release_year_df = release_year_df.groupby(['release_year', 'type'], as_index=False)['title'].count()"
      ],
      "metadata": {
        "id": "MDk6iJQLVTkJ"
      },
      "execution_count": null,
      "outputs": []
    },
    {
      "cell_type": "code",
      "source": [
        "# Chart - 8 visualization code\n",
        "# plotting a barchart to show release year distribution of released movies and TV Shows\n",
        "sns.barplot(data = release_year_df, x='release_year', y='title', hue='type')\n",
        "\n",
        "# setting title and x and y labels\n",
        "plt.title('Release year distribution for tv shows and movies in database', fontsize=12)\n",
        "plt.xlabel('Release Year')\n",
        "plt.ylabel('Title Count')\n",
        "\n",
        "# rotating xticks\n",
        "plt.xticks(rotation=90)\n",
        "\n",
        "# relocating position of legend\n",
        "plt.legend(loc='upper left')\n",
        "\n",
        "plt.show()"
      ],
      "metadata": {
        "id": "TdPTWpAVphqO",
        "colab": {
          "base_uri": "https://localhost:8080/",
          "height": 365
        },
        "outputId": "31037987-0540-4d96-d9bf-6f92e369ece4"
      },
      "execution_count": null,
      "outputs": [
        {
          "output_type": "display_data",
          "data": {
            "text/plain": [
              "<Figure size 1080x360 with 1 Axes>"
            ],
            "image/png": "[encoded data removed]"
          },
          "metadata": {}
        }
      ]
    },
    {
      "cell_type": "markdown",
      "source": [
        "##### 1. Why did you pick the specific chart?"
      ],
      "metadata": {
        "id": "jj7wYXLtphqO"
      }
    },
    {
      "cell_type": "markdown",
      "source": [
        "This barchart showsrelease year distribution of released movies and TV Shows in the dataset."
      ],
      "metadata": {
        "id": "Ob8u6rCTphqO"
      }
    },
    {
      "cell_type": "markdown",
      "source": [
        "##### 2. What is/are the insight(s) found from the chart?"
      ],
      "metadata": {
        "id": "eZrbJ2SmphqO"
      }
    },
    {
      "cell_type": "markdown",
      "source": [
        "*  Most of the movies and TV Shows in dataset ranges from 90s to 2020.\n",
        "*  While some of the movies in data are from 90s and kept growing with each year since then, TV Shows in data are from 2002 and beyond only.\n",
        "*  This plot has exponential increase, that indicates that most of the movies and TV Shows added in the data were released in recent years only.\n",
        "*  Because TV Shows released only since 2002 are added, it can be another reason for them being less than number of movies.\n",
        "*  Not much data is available for 2021."
      ],
      "metadata": {
        "id": "mZtgC_hjphqO"
      }
    },
    {
      "cell_type": "markdown",
      "source": [
        "##### 3. Will the gained insights help creating a positive business impact? \n",
        "Are there any insights that lead to negative growth? Justify with specific reason."
      ],
      "metadata": {
        "id": "rFu4xreNphqO"
      }
    },
    {
      "cell_type": "markdown",
      "source": [
        "Answer Here"
      ],
      "metadata": {
        "id": "ey_0qi68phqO"
      }
    },
    {
      "cell_type": "markdown",
      "source": [
        "#### Chart - 9 ( **Number of movies and TV Shows by each rating type** )"
      ],
      "metadata": {
        "id": "YJ55k-q6phqO"
      }
    },
    {
      "cell_type": "code",
      "source": [
        "# creating a ratings df for our purpose\n",
        "ratings_df = df[~df.isna()]\n",
        "\n",
        "# getting count for each rating type\n",
        "ratings_df = ratings_df.groupby(['rating', 'type'], as_index=False)['title'].count().sort_values(by='title', ascending=False)"
      ],
      "metadata": {
        "id": "9gWSxrIRV3fp"
      },
      "execution_count": null,
      "outputs": []
    },
    {
      "cell_type": "code",
      "source": [
        "# Chart - 9 visualization code\n",
        "# creating a barplot to show count of TV Shows and Movies by each rating type\n",
        "sns.barplot(data=ratings_df, x='rating', y='title', hue='type')\n",
        "plt.title('Count of TV Shows and Movies by each rating type')\n",
        "plt.xlabel('Ratings')\n",
        "plt.ylabel('Count')\n",
        "plt.legend(loc='upper right')\n",
        "\n",
        "plt.show()"
      ],
      "metadata": {
        "id": "B2aS4O1ophqO",
        "colab": {
          "base_uri": "https://localhost:8080/",
          "height": 350
        },
        "outputId": "2a28f662-edd0-4772-dece-08d9be96a1d6"
      },
      "execution_count": null,
      "outputs": [
        {
          "output_type": "display_data",
          "data": {
            "text/plain": [
              "<Figure size 1080x360 with 1 Axes>"
            ],
            "image/png": "[encoded data removed]"
          },
          "metadata": {}
        }
      ]
    },
    {
      "cell_type": "markdown",
      "source": [
        "##### 1. Why did you pick the specific chart?"
      ],
      "metadata": {
        "id": "gCFgpxoyphqP"
      }
    },
    {
      "cell_type": "markdown",
      "source": [
        "This chart shows Count of TV Shows and Movies by each rating type."
      ],
      "metadata": {
        "id": "TVxDimi2phqP"
      }
    },
    {
      "cell_type": "markdown",
      "source": [
        "##### 2. What is/are the insight(s) found from the chart?"
      ],
      "metadata": {
        "id": "OVtJsKN_phqQ"
      }
    },
    {
      "cell_type": "markdown",
      "source": [
        "\n",
        "*   Maximum number of the TV Shows and Movies are rated TV-MA, meaning they are for mature audiences only. \n",
        "*   It is followed by TV-14 meaning they can't be watched by children below 14 years of age. They contain maturity and other content that can be unsuitable for children.\n",
        "*   That is followed by R rating which is also an adult category, children needs supervision of parents to watch these kind of movies.\n",
        "*   TV Shows are available in 5 categories only; Most of them are in category TV-MA and TV-14, followed by TV-PG (parental guidance is recommended; these programs may be unsuitable for younger children), and TV-Y7 and TV-Y (last two categories are suitable for children as well)."
      ],
      "metadata": {
        "id": "ngGi97qjphqQ"
      }
    },
    {
      "cell_type": "markdown",
      "source": [
        "##### 3. Will the gained insights help creating a positive business impact? \n",
        "Are there any insights that lead to negative growth? Justify with specific reason."
      ],
      "metadata": {
        "id": "lssrdh5qphqQ"
      }
    },
    {
      "cell_type": "markdown",
      "source": [
        "Answer Here"
      ],
      "metadata": {
        "id": "tBpY5ekJphqQ"
      }
    },
    {
      "cell_type": "markdown",
      "source": [
        "#### Chart - 10"
      ],
      "metadata": {
        "id": "U2RJ9gkRphqQ"
      }
    },
    {
      "cell_type": "code",
      "source": [
        "# Chart - 10 visualization code"
      ],
      "metadata": {
        "id": "GM7a4YP4phqQ"
      },
      "execution_count": null,
      "outputs": []
    },
    {
      "cell_type": "markdown",
      "source": [
        "##### 1. Why did you pick the specific chart?"
      ],
      "metadata": {
        "id": "1M8mcRywphqQ"
      }
    },
    {
      "cell_type": "markdown",
      "source": [
        "Answer Here."
      ],
      "metadata": {
        "id": "8agQvks0phqQ"
      }
    },
    {
      "cell_type": "markdown",
      "source": [
        "##### 2. What is/are the insight(s) found from the chart?"
      ],
      "metadata": {
        "id": "tgIPom80phqQ"
      }
    },
    {
      "cell_type": "markdown",
      "source": [
        "Answer Here"
      ],
      "metadata": {
        "id": "Qp13pnNzphqQ"
      }
    },
    {
      "cell_type": "markdown",
      "source": [
        "##### 3. Will the gained insights help creating a positive business impact? \n",
        "Are there any insights that lead to negative growth? Justify with specific reason."
      ],
      "metadata": {
        "id": "JMzcOPDDphqR"
      }
    },
    {
      "cell_type": "markdown",
      "source": [
        "Answer Here"
      ],
      "metadata": {
        "id": "R4Ka1PC2phqR"
      }
    },
    {
      "cell_type": "markdown",
      "source": [
        "#### Chart - 11"
      ],
      "metadata": {
        "id": "x-EpHcCOp1ci"
      }
    },
    {
      "cell_type": "code",
      "source": [
        "# Chart - 11 visualization code"
      ],
      "metadata": {
        "id": "mAQTIvtqp1cj"
      },
      "execution_count": null,
      "outputs": []
    },
    {
      "cell_type": "markdown",
      "source": [
        "##### 1. Why did you pick the specific chart?"
      ],
      "metadata": {
        "id": "X_VqEhTip1ck"
      }
    },
    {
      "cell_type": "markdown",
      "source": [
        "Answer Here."
      ],
      "metadata": {
        "id": "-vsMzt_np1ck"
      }
    },
    {
      "cell_type": "markdown",
      "source": [
        "##### 2. What is/are the insight(s) found from the chart?"
      ],
      "metadata": {
        "id": "8zGJKyg5p1ck"
      }
    },
    {
      "cell_type": "markdown",
      "source": [
        "Answer Here"
      ],
      "metadata": {
        "id": "ZYdMsrqVp1ck"
      }
    },
    {
      "cell_type": "markdown",
      "source": [
        "##### 3. Will the gained insights help creating a positive business impact? \n",
        "Are there any insights that lead to negative growth? Justify with specific reason."
      ],
      "metadata": {
        "id": "PVzmfK_Ep1ck"
      }
    },
    {
      "cell_type": "markdown",
      "source": [
        "Answer Here"
      ],
      "metadata": {
        "id": "druuKYZpp1ck"
      }
    },
    {
      "cell_type": "markdown",
      "source": [
        "#### Chart - 12"
      ],
      "metadata": {
        "id": "n3dbpmDWp1ck"
      }
    },
    {
      "cell_type": "code",
      "source": [
        "# Chart - 12 visualization code"
      ],
      "metadata": {
        "id": "bwevp1tKp1ck"
      },
      "execution_count": null,
      "outputs": []
    },
    {
      "cell_type": "markdown",
      "source": [
        "##### 1. Why did you pick the specific chart?"
      ],
      "metadata": {
        "id": "ylSl6qgtp1ck"
      }
    },
    {
      "cell_type": "markdown",
      "source": [
        "Answer Here."
      ],
      "metadata": {
        "id": "m2xqNkiQp1ck"
      }
    },
    {
      "cell_type": "markdown",
      "source": [
        "##### 2. What is/are the insight(s) found from the chart?"
      ],
      "metadata": {
        "id": "ZWILFDl5p1ck"
      }
    },
    {
      "cell_type": "markdown",
      "source": [
        "Answer Here"
      ],
      "metadata": {
        "id": "x-lUsV2mp1ck"
      }
    },
    {
      "cell_type": "markdown",
      "source": [
        "##### 3. Will the gained insights help creating a positive business impact? \n",
        "Are there any insights that lead to negative growth? Justify with specific reason."
      ],
      "metadata": {
        "id": "M7G43BXep1ck"
      }
    },
    {
      "cell_type": "markdown",
      "source": [
        "Answer Here"
      ],
      "metadata": {
        "id": "5wwDJXsLp1cl"
      }
    },
    {
      "cell_type": "markdown",
      "source": [
        "#### Chart - 13"
      ],
      "metadata": {
        "id": "Ag9LCva-p1cl"
      }
    },
    {
      "cell_type": "code",
      "source": [
        "# Chart - 13 visualization code"
      ],
      "metadata": {
        "id": "EUfxeq9-p1cl"
      },
      "execution_count": null,
      "outputs": []
    },
    {
      "cell_type": "markdown",
      "source": [
        "##### 1. Why did you pick the specific chart?"
      ],
      "metadata": {
        "id": "E6MkPsBcp1cl"
      }
    },
    {
      "cell_type": "markdown",
      "source": [
        "Answer Here."
      ],
      "metadata": {
        "id": "V22bRsFWp1cl"
      }
    },
    {
      "cell_type": "markdown",
      "source": [
        "##### 2. What is/are the insight(s) found from the chart?"
      ],
      "metadata": {
        "id": "2cELzS2fp1cl"
      }
    },
    {
      "cell_type": "markdown",
      "source": [
        "Answer Here"
      ],
      "metadata": {
        "id": "ozQPc2_Ip1cl"
      }
    },
    {
      "cell_type": "markdown",
      "source": [
        "##### 3. Will the gained insights help creating a positive business impact? \n",
        "Are there any insights that lead to negative growth? Justify with specific reason."
      ],
      "metadata": {
        "id": "3MPXvC8up1cl"
      }
    },
    {
      "cell_type": "markdown",
      "source": [
        "Answer Here"
      ],
      "metadata": {
        "id": "GL8l1tdLp1cl"
      }
    },
    {
      "cell_type": "markdown",
      "source": [
        "#### Chart - 14 - Correlation Heatmap"
      ],
      "metadata": {
        "id": "NC_X3p0fY2L0"
      }
    },
    {
      "cell_type": "code",
      "source": [
        "# Correlation Heatmap visualization code"
      ],
      "metadata": {
        "id": "xyC9zolEZNRQ"
      },
      "execution_count": null,
      "outputs": []
    },
    {
      "cell_type": "markdown",
      "source": [
        "##### 1. Why did you pick the specific chart?"
      ],
      "metadata": {
        "id": "UV0SzAkaZNRQ"
      }
    },
    {
      "cell_type": "markdown",
      "source": [
        "Answer Here."
      ],
      "metadata": {
        "id": "DVPuT8LYZNRQ"
      }
    },
    {
      "cell_type": "markdown",
      "source": [
        "##### 2. What is/are the insight(s) found from the chart?"
      ],
      "metadata": {
        "id": "YPEH6qLeZNRQ"
      }
    },
    {
      "cell_type": "markdown",
      "source": [
        "Answer Here"
      ],
      "metadata": {
        "id": "bfSqtnDqZNRR"
      }
    },
    {
      "cell_type": "markdown",
      "source": [
        "#### Chart - 15 - Pair Plot "
      ],
      "metadata": {
        "id": "q29F0dvdveiT"
      }
    },
    {
      "cell_type": "code",
      "source": [
        "# Pair Plot visualization code"
      ],
      "metadata": {
        "id": "o58-TEIhveiU"
      },
      "execution_count": null,
      "outputs": []
    },
    {
      "cell_type": "markdown",
      "source": [
        "##### 1. Why did you pick the specific chart?"
      ],
      "metadata": {
        "id": "EXh0U9oCveiU"
      }
    },
    {
      "cell_type": "markdown",
      "source": [
        "Answer Here."
      ],
      "metadata": {
        "id": "eMmPjTByveiU"
      }
    },
    {
      "cell_type": "markdown",
      "source": [
        "##### 2. What is/are the insight(s) found from the chart?"
      ],
      "metadata": {
        "id": "22aHeOlLveiV"
      }
    },
    {
      "cell_type": "markdown",
      "source": [
        "Answer Here"
      ],
      "metadata": {
        "id": "uPQ8RGwHveiV"
      }
    },
    {
      "cell_type": "markdown",
      "source": [
        "## ***5. Hypothesis Testing***"
      ],
      "metadata": {
        "id": "g-ATYxFrGrvw"
      }
    },
    {
      "cell_type": "markdown",
      "source": [
        "### Based on your chart experiments, define three hypothetical statements from the dataset. In the next three questions, perform hypothesis testing to obtain final conclusion about the statements through your code and statistical testing."
      ],
      "metadata": {
        "id": "Yfr_Vlr8HBkt"
      }
    },
    {
      "cell_type": "markdown",
      "source": [
        "Answer Here."
      ],
      "metadata": {
        "id": "-7MS06SUHkB-"
      }
    },
    {
      "cell_type": "markdown",
      "source": [
        "### Hypothetical Statement - 1"
      ],
      "metadata": {
        "id": "8yEUt7NnHlrM"
      }
    },
    {
      "cell_type": "markdown",
      "source": [
        "#### 1. State Your research hypothesis as a null hypothesis and alternate hypothesis."
      ],
      "metadata": {
        "id": "tEA2Xm5dHt1r"
      }
    },
    {
      "cell_type": "markdown",
      "source": [
        "Answer Here."
      ],
      "metadata": {
        "id": "HI9ZP0laH0D-"
      }
    },
    {
      "cell_type": "markdown",
      "source": [
        "#### 2. Perform an appropriate statistical test."
      ],
      "metadata": {
        "id": "I79__PHVH19G"
      }
    },
    {
      "cell_type": "code",
      "source": [
        "# Perform Statistical Test to obtain P-Value"
      ],
      "metadata": {
        "id": "oZrfquKtyian"
      },
      "execution_count": null,
      "outputs": []
    },
    {
      "cell_type": "markdown",
      "source": [
        "##### Which statistical test have you done to obtain P-Value?"
      ],
      "metadata": {
        "id": "Ou-I18pAyIpj"
      }
    },
    {
      "cell_type": "markdown",
      "source": [
        "Answer Here."
      ],
      "metadata": {
        "id": "s2U0kk00ygSB"
      }
    },
    {
      "cell_type": "markdown",
      "source": [
        "##### Why did you choose the specific statistical test?"
      ],
      "metadata": {
        "id": "fF3858GYyt-u"
      }
    },
    {
      "cell_type": "markdown",
      "source": [
        "Answer Here."
      ],
      "metadata": {
        "id": "HO4K0gP5y3B4"
      }
    },
    {
      "cell_type": "markdown",
      "source": [
        "### Hypothetical Statement - 2"
      ],
      "metadata": {
        "id": "4_0_7-oCpUZd"
      }
    },
    {
      "cell_type": "markdown",
      "source": [
        "#### 1. State Your research hypothesis as a null hypothesis and alternate hypothesis."
      ],
      "metadata": {
        "id": "hwyV_J3ipUZe"
      }
    },
    {
      "cell_type": "markdown",
      "source": [
        "Answer Here."
      ],
      "metadata": {
        "id": "FnpLGJ-4pUZe"
      }
    },
    {
      "cell_type": "markdown",
      "source": [
        "#### 2. Perform an appropriate statistical test."
      ],
      "metadata": {
        "id": "3yB-zSqbpUZe"
      }
    },
    {
      "cell_type": "code",
      "source": [
        "# Perform Statistical Test to obtain P-Value"
      ],
      "metadata": {
        "id": "sWxdNTXNpUZe"
      },
      "execution_count": null,
      "outputs": []
    },
    {
      "cell_type": "markdown",
      "source": [
        "##### Which statistical test have you done to obtain P-Value?"
      ],
      "metadata": {
        "id": "dEUvejAfpUZe"
      }
    },
    {
      "cell_type": "markdown",
      "source": [
        "Answer Here."
      ],
      "metadata": {
        "id": "oLDrPz7HpUZf"
      }
    },
    {
      "cell_type": "markdown",
      "source": [
        "##### Why did you choose the specific statistical test?"
      ],
      "metadata": {
        "id": "Fd15vwWVpUZf"
      }
    },
    {
      "cell_type": "markdown",
      "source": [
        "Answer Here."
      ],
      "metadata": {
        "id": "4xOGYyiBpUZf"
      }
    },
    {
      "cell_type": "markdown",
      "source": [
        "### Hypothetical Statement - 3"
      ],
      "metadata": {
        "id": "bn_IUdTipZyH"
      }
    },
    {
      "cell_type": "markdown",
      "source": [
        "#### 1. State Your research hypothesis as a null hypothesis and alternate hypothesis."
      ],
      "metadata": {
        "id": "49K5P_iCpZyH"
      }
    },
    {
      "cell_type": "markdown",
      "source": [
        "Answer Here."
      ],
      "metadata": {
        "id": "7gWI5rT9pZyH"
      }
    },
    {
      "cell_type": "markdown",
      "source": [
        "#### 2. Perform an appropriate statistical test."
      ],
      "metadata": {
        "id": "Nff-vKELpZyI"
      }
    },
    {
      "cell_type": "code",
      "source": [
        "# Perform Statistical Test to obtain P-Value"
      ],
      "metadata": {
        "id": "s6AnJQjtpZyI"
      },
      "execution_count": null,
      "outputs": []
    },
    {
      "cell_type": "markdown",
      "source": [
        "##### Which statistical test have you done to obtain P-Value?"
      ],
      "metadata": {
        "id": "kLW572S8pZyI"
      }
    },
    {
      "cell_type": "markdown",
      "source": [
        "Answer Here."
      ],
      "metadata": {
        "id": "ytWJ8v15pZyI"
      }
    },
    {
      "cell_type": "markdown",
      "source": [
        "##### Why did you choose the specific statistical test?"
      ],
      "metadata": {
        "id": "dWbDXHzopZyI"
      }
    },
    {
      "cell_type": "markdown",
      "source": [
        "Answer Here."
      ],
      "metadata": {
        "id": "M99G98V6pZyI"
      }
    },
    {
      "cell_type": "markdown",
      "source": [
        "## ***6. Feature Engineering & Data Pre-processing***"
      ],
      "metadata": {
        "id": "yLjJCtPM0KBk"
      }
    },
    {
      "cell_type": "markdown",
      "source": [
        "### 1. Handling Missing Values"
      ],
      "metadata": {
        "id": "xiyOF9F70UgQ"
      }
    },
    {
      "cell_type": "code",
      "source": [
        "# Handling Missing Values & Missing Value Imputation"
      ],
      "metadata": {
        "id": "iRsAHk1K0fpS"
      },
      "execution_count": null,
      "outputs": []
    },
    {
      "cell_type": "markdown",
      "source": [
        "#### What all missing value imputation techniques have you used and why did you use those techniques?"
      ],
      "metadata": {
        "id": "7wuGOrhz0itI"
      }
    },
    {
      "cell_type": "markdown",
      "source": [
        "Answer Here."
      ],
      "metadata": {
        "id": "1ixusLtI0pqI"
      }
    },
    {
      "cell_type": "markdown",
      "source": [
        "### 2. Handling Outliers"
      ],
      "metadata": {
        "id": "id1riN9m0vUs"
      }
    },
    {
      "cell_type": "code",
      "source": [
        "# Handling Outliers & Outlier treatments"
      ],
      "metadata": {
        "id": "M6w2CzZf04JK"
      },
      "execution_count": null,
      "outputs": []
    },
    {
      "cell_type": "markdown",
      "source": [
        "##### What all outlier treatment techniques have you used and why did you use those techniques?"
      ],
      "metadata": {
        "id": "578E2V7j08f6"
      }
    },
    {
      "cell_type": "markdown",
      "source": [
        "Answer Here."
      ],
      "metadata": {
        "id": "uGZz5OrT1HH-"
      }
    },
    {
      "cell_type": "markdown",
      "source": [
        "### 3. Categorical Encoding"
      ],
      "metadata": {
        "id": "89xtkJwZ18nB"
      }
    },
    {
      "cell_type": "code",
      "source": [
        "# Encode your categorical columns"
      ],
      "metadata": {
        "id": "21JmIYMG2hEo"
      },
      "execution_count": null,
      "outputs": []
    },
    {
      "cell_type": "markdown",
      "source": [
        "#### What all categorical encoding techniques have you used & why did you use those techniques?"
      ],
      "metadata": {
        "id": "67NQN5KX2AMe"
      }
    },
    {
      "cell_type": "markdown",
      "source": [
        "Answer Here."
      ],
      "metadata": {
        "id": "UDaue5h32n_G"
      }
    },
    {
      "cell_type": "markdown",
      "source": [
        "### 4. Textual Data Preprocessing \n",
        "(It's mandatory for textual dataset i.e., NLP, Sentiment Analysis, Text Clustering etc.)"
      ],
      "metadata": {
        "id": "Iwf50b-R2tYG"
      }
    },
    {
      "cell_type": "markdown",
      "source": [
        "#### 1. Expand Contraction"
      ],
      "metadata": {
        "id": "GMQiZwjn3iu7"
      }
    },
    {
      "cell_type": "code",
      "source": [
        "# Expand Contraction"
      ],
      "metadata": {
        "id": "PTouz10C3oNN"
      },
      "execution_count": null,
      "outputs": []
    },
    {
      "cell_type": "markdown",
      "source": [
        "#### 2. Lower Casing"
      ],
      "metadata": {
        "id": "WVIkgGqN3qsr"
      }
    },
    {
      "cell_type": "code",
      "source": [
        "# Lower Casing"
      ],
      "metadata": {
        "id": "88JnJ1jN3w7j"
      },
      "execution_count": null,
      "outputs": []
    },
    {
      "cell_type": "markdown",
      "source": [
        "#### 3. Removing Punctuations"
      ],
      "metadata": {
        "id": "XkPnILGE3zoT"
      }
    },
    {
      "cell_type": "code",
      "source": [
        "# Remove Punctuations"
      ],
      "metadata": {
        "id": "vqbBqNaA33c0"
      },
      "execution_count": null,
      "outputs": []
    },
    {
      "cell_type": "markdown",
      "source": [
        "#### 4. Removing URLs & Removing words and digits contain digits."
      ],
      "metadata": {
        "id": "Hlsf0x5436Go"
      }
    },
    {
      "cell_type": "code",
      "source": [
        "# Remove URLs & Remove words and digits contain digits"
      ],
      "metadata": {
        "id": "2sxKgKxu4Ip3"
      },
      "execution_count": null,
      "outputs": []
    },
    {
      "cell_type": "markdown",
      "source": [
        "#### 5. Removing Stopwords & Removing White spaces"
      ],
      "metadata": {
        "id": "mT9DMSJo4nBL"
      }
    },
    {
      "cell_type": "code",
      "source": [
        "# Remove Stopwords"
      ],
      "metadata": {
        "id": "T2LSJh154s8W"
      },
      "execution_count": null,
      "outputs": []
    },
    {
      "cell_type": "code",
      "source": [
        "# Remove White spaces"
      ],
      "metadata": {
        "id": "EgLJGffy4vm0"
      },
      "execution_count": null,
      "outputs": []
    },
    {
      "cell_type": "markdown",
      "source": [
        "#### 6. Rephrase Text"
      ],
      "metadata": {
        "id": "c49ITxTc407N"
      }
    },
    {
      "cell_type": "code",
      "source": [
        "# Rephrase Text"
      ],
      "metadata": {
        "id": "foqY80Qu48N2"
      },
      "execution_count": null,
      "outputs": []
    },
    {
      "cell_type": "markdown",
      "source": [
        "#### 7. Tokenization"
      ],
      "metadata": {
        "id": "OeJFEK0N496M"
      }
    },
    {
      "cell_type": "code",
      "source": [
        "# Tokenization"
      ],
      "metadata": {
        "id": "ijx1rUOS5CUU"
      },
      "execution_count": null,
      "outputs": []
    },
    {
      "cell_type": "markdown",
      "source": [
        "#### 8. Text Normalization"
      ],
      "metadata": {
        "id": "9ExmJH0g5HBk"
      }
    },
    {
      "cell_type": "code",
      "source": [
        "# Normalizing Text (i.e., Stemming, Lemmatization etc.)"
      ],
      "metadata": {
        "id": "AIJ1a-Zc5PY8"
      },
      "execution_count": null,
      "outputs": []
    },
    {
      "cell_type": "markdown",
      "source": [
        "##### Which text normalization technique have you used and why?"
      ],
      "metadata": {
        "id": "cJNqERVU536h"
      }
    },
    {
      "cell_type": "markdown",
      "source": [
        "Answer Here."
      ],
      "metadata": {
        "id": "Z9jKVxE06BC1"
      }
    },
    {
      "cell_type": "markdown",
      "source": [
        "#### 9. Part of speech tagging"
      ],
      "metadata": {
        "id": "k5UmGsbsOxih"
      }
    },
    {
      "cell_type": "code",
      "source": [
        "# POS Taging"
      ],
      "metadata": {
        "id": "btT3ZJBAO6Ik"
      },
      "execution_count": null,
      "outputs": []
    },
    {
      "cell_type": "markdown",
      "source": [
        "#### 10. Text Vectorization"
      ],
      "metadata": {
        "id": "T0VqWOYE6DLQ"
      }
    },
    {
      "cell_type": "code",
      "source": [
        "# Vectorizing Text"
      ],
      "metadata": {
        "id": "yBRtdhth6JDE"
      },
      "execution_count": null,
      "outputs": []
    },
    {
      "cell_type": "markdown",
      "source": [
        "##### Which text vectorization technique have you used and why?"
      ],
      "metadata": {
        "id": "qBMux9mC6MCf"
      }
    },
    {
      "cell_type": "markdown",
      "source": [
        "Answer Here."
      ],
      "metadata": {
        "id": "su2EnbCh6UKQ"
      }
    },
    {
      "cell_type": "markdown",
      "source": [
        "### 4. Feature Manipulation & Selection"
      ],
      "metadata": {
        "id": "-oLEiFgy-5Pf"
      }
    },
    {
      "cell_type": "markdown",
      "source": [
        "#### 1. Feature Manipulation"
      ],
      "metadata": {
        "id": "C74aWNz2AliB"
      }
    },
    {
      "cell_type": "code",
      "source": [
        "# Manipulate Features to minimize feature correlation and create new features"
      ],
      "metadata": {
        "id": "h1qC4yhBApWC"
      },
      "execution_count": null,
      "outputs": []
    },
    {
      "cell_type": "markdown",
      "source": [
        "#### 2. Feature Selection"
      ],
      "metadata": {
        "id": "2DejudWSA-a0"
      }
    },
    {
      "cell_type": "code",
      "source": [
        "# Select your features wisely to avoid overfitting"
      ],
      "metadata": {
        "id": "YLhe8UmaBCEE"
      },
      "execution_count": null,
      "outputs": []
    },
    {
      "cell_type": "markdown",
      "source": [
        "##### What all feature selection methods have you used  and why?"
      ],
      "metadata": {
        "id": "pEMng2IbBLp7"
      }
    },
    {
      "cell_type": "markdown",
      "source": [
        "Answer Here."
      ],
      "metadata": {
        "id": "rb2Lh6Z8BgGs"
      }
    },
    {
      "cell_type": "markdown",
      "source": [
        "##### Which all features you found important and why?"
      ],
      "metadata": {
        "id": "rAdphbQ9Bhjc"
      }
    },
    {
      "cell_type": "markdown",
      "source": [
        "Answer Here."
      ],
      "metadata": {
        "id": "fGgaEstsBnaf"
      }
    },
    {
      "cell_type": "markdown",
      "source": [
        "### 5. Data Transformation"
      ],
      "metadata": {
        "id": "TNVZ9zx19K6k"
      }
    },
    {
      "cell_type": "markdown",
      "source": [
        "#### Do you think that your data needs to be transformed? If yes, which transformation have you used. Explain Why?"
      ],
      "metadata": {
        "id": "nqoHp30x9hH9"
      }
    },
    {
      "cell_type": "code",
      "source": [
        "# Transform Your data"
      ],
      "metadata": {
        "id": "I6quWQ1T9rtH"
      },
      "execution_count": null,
      "outputs": []
    },
    {
      "cell_type": "markdown",
      "source": [
        "### 6. Data Scaling"
      ],
      "metadata": {
        "id": "rMDnDkt2B6du"
      }
    },
    {
      "cell_type": "code",
      "source": [
        "# Scaling your data"
      ],
      "metadata": {
        "id": "dL9LWpySC6x_"
      },
      "execution_count": null,
      "outputs": []
    },
    {
      "cell_type": "markdown",
      "source": [
        "##### Which method have you used to scale you data and why?"
      ],
      "metadata": {
        "id": "yiiVWRdJDDil"
      }
    },
    {
      "cell_type": "markdown",
      "source": [
        "### 7. Dimesionality Reduction"
      ],
      "metadata": {
        "id": "1UUpS68QDMuG"
      }
    },
    {
      "cell_type": "markdown",
      "source": [
        "##### Do you think that dimensionality reduction is needed? Explain Why?"
      ],
      "metadata": {
        "id": "kexQrXU-DjzY"
      }
    },
    {
      "cell_type": "markdown",
      "source": [
        "Answer Here."
      ],
      "metadata": {
        "id": "GGRlBsSGDtTQ"
      }
    },
    {
      "cell_type": "code",
      "source": [
        "# DImensionality Reduction (If needed)"
      ],
      "metadata": {
        "id": "kQfvxBBHDvCa"
      },
      "execution_count": null,
      "outputs": []
    },
    {
      "cell_type": "markdown",
      "source": [
        "##### Which dimensionality reduction technique have you used and why? (If dimensionality reduction done on dataset.)"
      ],
      "metadata": {
        "id": "T5CmagL3EC8N"
      }
    },
    {
      "cell_type": "markdown",
      "source": [
        "Answer Here."
      ],
      "metadata": {
        "id": "ZKr75IDuEM7t"
      }
    },
    {
      "cell_type": "markdown",
      "source": [
        "### 8. Data Splitting"
      ],
      "metadata": {
        "id": "BhH2vgX9EjGr"
      }
    },
    {
      "cell_type": "code",
      "source": [
        "# Split your data to train and test. Choose Splitting ratio wisely."
      ],
      "metadata": {
        "id": "0CTyd2UwEyNM"
      },
      "execution_count": null,
      "outputs": []
    },
    {
      "cell_type": "markdown",
      "source": [
        "##### What data splitting ratio have you used and why? "
      ],
      "metadata": {
        "id": "qjKvONjwE8ra"
      }
    },
    {
      "cell_type": "markdown",
      "source": [
        "Answer Here."
      ],
      "metadata": {
        "id": "Y2lJ8cobFDb_"
      }
    },
    {
      "cell_type": "markdown",
      "source": [
        "### 9. Handling Imbalanced Dataset"
      ],
      "metadata": {
        "id": "P1XJ9OREExlT"
      }
    },
    {
      "cell_type": "markdown",
      "source": [
        "##### Do you think the dataset is imbalanced? Explain Why."
      ],
      "metadata": {
        "id": "VFOzZv6IFROw"
      }
    },
    {
      "cell_type": "markdown",
      "source": [
        "Answer Here."
      ],
      "metadata": {
        "id": "GeKDIv7pFgcC"
      }
    },
    {
      "cell_type": "code",
      "source": [
        "# Handling Imbalanced Dataset (If needed)"
      ],
      "metadata": {
        "id": "nQsRhhZLFiDs"
      },
      "execution_count": null,
      "outputs": []
    },
    {
      "cell_type": "markdown",
      "source": [
        "##### What technique did you use to handle the imbalance dataset and why? (If needed to be balanced)"
      ],
      "metadata": {
        "id": "TIqpNgepFxVj"
      }
    },
    {
      "cell_type": "markdown",
      "source": [
        "Answer Here."
      ],
      "metadata": {
        "id": "qbet1HwdGDTz"
      }
    },
    {
      "cell_type": "markdown",
      "source": [
        "## ***7. ML Model Implementation***"
      ],
      "metadata": {
        "id": "VfCC591jGiD4"
      }
    },
    {
      "cell_type": "markdown",
      "source": [
        "### ML Model - 1"
      ],
      "metadata": {
        "id": "OB4l2ZhMeS1U"
      }
    },
    {
      "cell_type": "code",
      "source": [
        "# ML Model - 1 Implementation\n",
        "\n",
        "# Fit the Algorithm\n",
        "\n",
        "# Predict on the model"
      ],
      "metadata": {
        "id": "7ebyywQieS1U"
      },
      "execution_count": null,
      "outputs": []
    },
    {
      "cell_type": "markdown",
      "source": [
        "#### 1. Explain the ML Model used and it's performance using Evaluation metric Score Chart."
      ],
      "metadata": {
        "id": "ArJBuiUVfxKd"
      }
    },
    {
      "cell_type": "code",
      "source": [
        "# Visualizing evaluation Metric Score chart"
      ],
      "metadata": {
        "id": "rqD5ZohzfxKe"
      },
      "execution_count": null,
      "outputs": []
    },
    {
      "cell_type": "markdown",
      "source": [
        "#### 2. Cross- Validation & Hyperparameter Tuning"
      ],
      "metadata": {
        "id": "4qY1EAkEfxKe"
      }
    },
    {
      "cell_type": "code",
      "source": [
        "# ML Model - 1 Implementation with hyperparameter optimization techniques (i.e., GridSearch CV, RandomSearch CV, Bayesian Optimization etc.)\n",
        "\n",
        "# Fit the Algorithm\n",
        "\n",
        "# Predict on the model"
      ],
      "metadata": {
        "id": "Dy61ujd6fxKe"
      },
      "execution_count": null,
      "outputs": []
    },
    {
      "cell_type": "markdown",
      "source": [
        "##### Which hyperparameter optimization technique have you used and why?"
      ],
      "metadata": {
        "id": "PiV4Ypx8fxKe"
      }
    },
    {
      "cell_type": "markdown",
      "source": [
        "Answer Here."
      ],
      "metadata": {
        "id": "negyGRa7fxKf"
      }
    },
    {
      "cell_type": "markdown",
      "source": [
        "##### Have you seen any improvement? Note down the improvement with updates Evaluation metric Score Chart."
      ],
      "metadata": {
        "id": "TfvqoZmBfxKf"
      }
    },
    {
      "cell_type": "markdown",
      "source": [
        "Answer Here."
      ],
      "metadata": {
        "id": "OaLui8CcfxKf"
      }
    },
    {
      "cell_type": "markdown",
      "source": [
        "### ML Model - 2"
      ],
      "metadata": {
        "id": "dJ2tPlVmpsJ0"
      }
    },
    {
      "cell_type": "markdown",
      "source": [
        "#### 1. Explain the ML Model used and it's performance using Evaluation metric Score Chart."
      ],
      "metadata": {
        "id": "JWYfwnehpsJ1"
      }
    },
    {
      "cell_type": "code",
      "source": [
        "# Visualizing evaluation Metric Score chart"
      ],
      "metadata": {
        "id": "yEl-hgQWpsJ1"
      },
      "execution_count": null,
      "outputs": []
    },
    {
      "cell_type": "markdown",
      "source": [
        "#### 2. Cross- Validation & Hyperparameter Tuning"
      ],
      "metadata": {
        "id": "-jK_YjpMpsJ2"
      }
    },
    {
      "cell_type": "code",
      "source": [
        "# ML Model - 1 Implementation with hyperparameter optimization techniques (i.e., GridSearch CV, RandomSearch CV, Bayesian Optimization etc.)\n",
        "\n",
        "# Fit the Algorithm\n",
        "\n",
        "# Predict on the model"
      ],
      "metadata": {
        "id": "Dn0EOfS6psJ2"
      },
      "execution_count": null,
      "outputs": []
    },
    {
      "cell_type": "markdown",
      "source": [
        "##### Which hyperparameter optimization technique have you used and why?"
      ],
      "metadata": {
        "id": "HAih1iBOpsJ2"
      }
    },
    {
      "cell_type": "markdown",
      "source": [
        "Answer Here."
      ],
      "metadata": {
        "id": "9kBgjYcdpsJ2"
      }
    },
    {
      "cell_type": "markdown",
      "source": [
        "##### Have you seen any improvement? Note down the improvement with updates Evaluation metric Score Chart."
      ],
      "metadata": {
        "id": "zVGeBEFhpsJ2"
      }
    },
    {
      "cell_type": "markdown",
      "source": [
        "Answer Here."
      ],
      "metadata": {
        "id": "74yRdG6UpsJ3"
      }
    },
    {
      "cell_type": "markdown",
      "source": [
        "#### 3. Explain each evaluation metric's indication towards business and the business impact pf the ML model used."
      ],
      "metadata": {
        "id": "bmKjuQ-FpsJ3"
      }
    },
    {
      "cell_type": "markdown",
      "source": [
        "Answer Here."
      ],
      "metadata": {
        "id": "BDKtOrBQpsJ3"
      }
    },
    {
      "cell_type": "markdown",
      "source": [
        "### ML Model - 3"
      ],
      "metadata": {
        "id": "Fze-IPXLpx6K"
      }
    },
    {
      "cell_type": "code",
      "source": [
        "# ML Model - 3 Implementation\n",
        "\n",
        "# Fit the Algorithm\n",
        "\n",
        "# Predict on the model"
      ],
      "metadata": {
        "id": "FFrSXAtrpx6M"
      },
      "execution_count": null,
      "outputs": []
    },
    {
      "cell_type": "markdown",
      "source": [
        "#### 1. Explain the ML Model used and it's performance using Evaluation metric Score Chart."
      ],
      "metadata": {
        "id": "7AN1z2sKpx6M"
      }
    },
    {
      "cell_type": "code",
      "source": [
        "# Visualizing evaluation Metric Score chart"
      ],
      "metadata": {
        "id": "xIY4lxxGpx6M"
      },
      "execution_count": null,
      "outputs": []
    },
    {
      "cell_type": "markdown",
      "source": [
        "#### 2. Cross- Validation & Hyperparameter Tuning"
      ],
      "metadata": {
        "id": "9PIHJqyupx6M"
      }
    },
    {
      "cell_type": "code",
      "source": [
        "# ML Model - 3 Implementation with hyperparameter optimization techniques (i.e., GridSearch CV, RandomSearch CV, Bayesian Optimization etc.)\n",
        "\n",
        "# Fit the Algorithm\n",
        "\n",
        "# Predict on the model"
      ],
      "metadata": {
        "id": "eSVXuaSKpx6M"
      },
      "execution_count": null,
      "outputs": []
    },
    {
      "cell_type": "markdown",
      "source": [
        "##### Which hyperparameter optimization technique have you used and why?"
      ],
      "metadata": {
        "id": "_-qAgymDpx6N"
      }
    },
    {
      "cell_type": "markdown",
      "source": [
        "Answer Here."
      ],
      "metadata": {
        "id": "lQMffxkwpx6N"
      }
    },
    {
      "cell_type": "markdown",
      "source": [
        "##### Have you seen any improvement? Note down the improvement with updates Evaluation metric Score Chart."
      ],
      "metadata": {
        "id": "Z-hykwinpx6N"
      }
    },
    {
      "cell_type": "markdown",
      "source": [
        "Answer Here."
      ],
      "metadata": {
        "id": "MzVzZC6opx6N"
      }
    },
    {
      "cell_type": "markdown",
      "source": [
        "### 1. Which Evaluation metrics did you consider for a positive business impact and why?"
      ],
      "metadata": {
        "id": "h_CCil-SKHpo"
      }
    },
    {
      "cell_type": "markdown",
      "source": [
        "Answer Here."
      ],
      "metadata": {
        "id": "jHVz9hHDKFms"
      }
    },
    {
      "cell_type": "markdown",
      "source": [
        "### 2. Which ML model did you choose from the above created models as your final prediction model and why?"
      ],
      "metadata": {
        "id": "cBFFvTBNJzUa"
      }
    },
    {
      "cell_type": "markdown",
      "source": [
        "Answer Here."
      ],
      "metadata": {
        "id": "6ksF5Q1LKTVm"
      }
    },
    {
      "cell_type": "markdown",
      "source": [
        "### 3. Explain the model which you have used and the feature importance using any model explainability tool?"
      ],
      "metadata": {
        "id": "HvGl1hHyA_VK"
      }
    },
    {
      "cell_type": "markdown",
      "source": [
        "Answer Here."
      ],
      "metadata": {
        "id": "YnvVTiIxBL-C"
      }
    },
    {
      "cell_type": "markdown",
      "source": [
        "## ***8.*** ***Future Work (Optional)***"
      ],
      "metadata": {
        "id": "EyNgTHvd2WFk"
      }
    },
    {
      "cell_type": "markdown",
      "source": [
        "### 1. Save the best performing ml model in a pickle file or joblib file format for deployment process.\n"
      ],
      "metadata": {
        "id": "KH5McJBi2d8v"
      }
    },
    {
      "cell_type": "code",
      "source": [
        "# Save the File"
      ],
      "metadata": {
        "id": "bQIANRl32f4J"
      },
      "execution_count": null,
      "outputs": []
    },
    {
      "cell_type": "markdown",
      "source": [
        "### 2. Again Load the saved model file and try to predict unseen data for a sanity check.\n"
      ],
      "metadata": {
        "id": "iW_Lq9qf2h6X"
      }
    },
    {
      "cell_type": "code",
      "source": [
        "# Load the File and predict unseen data."
      ],
      "metadata": {
        "id": "oEXk9ydD2nVC"
      },
      "execution_count": null,
      "outputs": []
    },
    {
      "cell_type": "markdown",
      "source": [
        "### ***Congrats! Your model is successfully created and ready for deployment on a live server for a real user interaction !!!***"
      ],
      "metadata": {
        "id": "-Kee-DAl2viO"
      }
    },
    {
      "cell_type": "markdown",
      "source": [
        "# **Conclusion**"
      ],
      "metadata": {
        "id": "gCX9965dhzqZ"
      }
    },
    {
      "cell_type": "markdown",
      "source": [
        "Write the conclusion here."
      ],
      "metadata": {
        "id": "Fjb1IsQkh3yE"
      }
    },
    {
      "cell_type": "markdown",
      "source": [
        "### ***Hurrah! You have successfully completed your Machine Learning Capstone Project !!!***"
      ],
      "metadata": {
        "id": "gIfDvo9L0UH2"
      }
    }
  ]
}